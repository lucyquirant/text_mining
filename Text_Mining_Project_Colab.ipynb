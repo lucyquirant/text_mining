{
  "nbformat": 4,
  "nbformat_minor": 0,
  "metadata": {
    "colab": {
      "name": "Text_Mining_Project_Colab",
      "provenance": [],
      "collapsed_sections": [],
      "toc_visible": true,
      "machine_shape": "hm",
      "mount_file_id": "12OBXK9l9W8DA8UBMDQw98uStZ51zHb0A",
      "authorship_tag": "ABX9TyNgs0FnxH5vXhYBIhislWOR",
      "include_colab_link": true
    },
    "kernelspec": {
      "name": "python3",
      "display_name": "Python 3"
    },
    "accelerator": "GPU"
  },
  "cells": [
    {
      "cell_type": "markdown",
      "metadata": {
        "id": "view-in-github",
        "colab_type": "text"
      },
      "source": [
        "<a href=\"https://colab.research.google.com/github/lucyquirant/text_mining/blob/master/Text_Mining_Project_Colab.ipynb\" target=\"_parent\"><img src=\"https://colab.research.google.com/assets/colab-badge.svg\" alt=\"Open In Colab\"/></a>"
      ]
    },
    {
      "cell_type": "code",
      "metadata": {
        "id": "U2Ywz2dtCZRb",
        "colab_type": "code",
        "outputId": "47595847-c4aa-4bc8-e526-acc712b52240",
        "colab": {
          "base_uri": "https://localhost:8080/",
          "height": 973
        }
      },
      "source": [
        "!pip3 install nltk \n",
        "!pip3 install wget\n",
        "!pip3 install tqdm\n",
        "!pip3 install matplotlib\n",
        "# !pip3 install spacy\n",
        "!python3 -m spacy download en_core_web_sm"
      ],
      "execution_count": 1,
      "outputs": [
        {
          "output_type": "stream",
          "text": [
            "Requirement already satisfied: nltk in /usr/local/lib/python3.6/dist-packages (3.2.5)\n",
            "Requirement already satisfied: six in /usr/local/lib/python3.6/dist-packages (from nltk) (1.12.0)\n",
            "Requirement already satisfied: wget in /usr/local/lib/python3.6/dist-packages (3.2)\n",
            "Requirement already satisfied: tqdm in /usr/local/lib/python3.6/dist-packages (4.38.0)\n",
            "Requirement already satisfied: matplotlib in /usr/local/lib/python3.6/dist-packages (3.2.1)\n",
            "Requirement already satisfied: kiwisolver>=1.0.1 in /usr/local/lib/python3.6/dist-packages (from matplotlib) (1.2.0)\n",
            "Requirement already satisfied: numpy>=1.11 in /usr/local/lib/python3.6/dist-packages (from matplotlib) (1.18.3)\n",
            "Requirement already satisfied: cycler>=0.10 in /usr/local/lib/python3.6/dist-packages (from matplotlib) (0.10.0)\n",
            "Requirement already satisfied: python-dateutil>=2.1 in /usr/local/lib/python3.6/dist-packages (from matplotlib) (2.8.1)\n",
            "Requirement already satisfied: pyparsing!=2.0.4,!=2.1.2,!=2.1.6,>=2.0.1 in /usr/local/lib/python3.6/dist-packages (from matplotlib) (2.4.7)\n",
            "Requirement already satisfied: six in /usr/local/lib/python3.6/dist-packages (from cycler>=0.10->matplotlib) (1.12.0)\n",
            "Requirement already up-to-date: numpy in /usr/local/lib/python3.6/dist-packages (1.18.3)\n",
            "Requirement already up-to-date: scipy in /usr/local/lib/python3.6/dist-packages (1.4.1)\n",
            "Requirement already up-to-date: scikit-learn in /usr/local/lib/python3.6/dist-packages (0.22.2.post1)\n",
            "Requirement already satisfied, skipping upgrade: joblib>=0.11 in /usr/local/lib/python3.6/dist-packages (from scikit-learn) (0.14.1)\n",
            "Requirement already satisfied: spacy in /usr/local/lib/python3.6/dist-packages (2.2.4)\n",
            "Requirement already satisfied: catalogue<1.1.0,>=0.0.7 in /usr/local/lib/python3.6/dist-packages (from spacy) (1.0.0)\n",
            "Requirement already satisfied: thinc==7.4.0 in /usr/local/lib/python3.6/dist-packages (from spacy) (7.4.0)\n",
            "Requirement already satisfied: wasabi<1.1.0,>=0.4.0 in /usr/local/lib/python3.6/dist-packages (from spacy) (0.6.0)\n",
            "Requirement already satisfied: requests<3.0.0,>=2.13.0 in /usr/local/lib/python3.6/dist-packages (from spacy) (2.21.0)\n",
            "Requirement already satisfied: plac<1.2.0,>=0.9.6 in /usr/local/lib/python3.6/dist-packages (from spacy) (1.1.3)\n",
            "Requirement already satisfied: preshed<3.1.0,>=3.0.2 in /usr/local/lib/python3.6/dist-packages (from spacy) (3.0.2)\n",
            "Requirement already satisfied: blis<0.5.0,>=0.4.0 in /usr/local/lib/python3.6/dist-packages (from spacy) (0.4.1)\n",
            "Requirement already satisfied: srsly<1.1.0,>=1.0.2 in /usr/local/lib/python3.6/dist-packages (from spacy) (1.0.2)\n",
            "Requirement already satisfied: cymem<2.1.0,>=2.0.2 in /usr/local/lib/python3.6/dist-packages (from spacy) (2.0.3)\n",
            "Requirement already satisfied: murmurhash<1.1.0,>=0.28.0 in /usr/local/lib/python3.6/dist-packages (from spacy) (1.0.2)\n",
            "Requirement already satisfied: tqdm<5.0.0,>=4.38.0 in /usr/local/lib/python3.6/dist-packages (from spacy) (4.38.0)\n",
            "Requirement already satisfied: numpy>=1.15.0 in /usr/local/lib/python3.6/dist-packages (from spacy) (1.18.3)\n",
            "Requirement already satisfied: setuptools in /usr/local/lib/python3.6/dist-packages (from spacy) (46.1.3)\n",
            "Requirement already satisfied: importlib-metadata>=0.20; python_version < \"3.8\" in /usr/local/lib/python3.6/dist-packages (from catalogue<1.1.0,>=0.0.7->spacy) (1.6.0)\n",
            "Requirement already satisfied: certifi>=2017.4.17 in /usr/local/lib/python3.6/dist-packages (from requests<3.0.0,>=2.13.0->spacy) (2020.4.5.1)\n",
            "Requirement already satisfied: urllib3<1.25,>=1.21.1 in /usr/local/lib/python3.6/dist-packages (from requests<3.0.0,>=2.13.0->spacy) (1.24.3)\n",
            "Requirement already satisfied: chardet<3.1.0,>=3.0.2 in /usr/local/lib/python3.6/dist-packages (from requests<3.0.0,>=2.13.0->spacy) (3.0.4)\n",
            "Requirement already satisfied: idna<2.9,>=2.5 in /usr/local/lib/python3.6/dist-packages (from requests<3.0.0,>=2.13.0->spacy) (2.8)\n",
            "Requirement already satisfied: zipp>=0.5 in /usr/local/lib/python3.6/dist-packages (from importlib-metadata>=0.20; python_version < \"3.8\"->catalogue<1.1.0,>=0.0.7->spacy) (3.1.0)\n",
            "Requirement already satisfied: en_core_web_sm==2.2.5 from https://github.com/explosion/spacy-models/releases/download/en_core_web_sm-2.2.5/en_core_web_sm-2.2.5.tar.gz#egg=en_core_web_sm==2.2.5 in /usr/local/lib/python3.6/dist-packages (2.2.5)\n",
            "Requirement already satisfied: spacy>=2.2.2 in /usr/local/lib/python3.6/dist-packages (from en_core_web_sm==2.2.5) (2.2.4)\n",
            "Requirement already satisfied: cymem<2.1.0,>=2.0.2 in /usr/local/lib/python3.6/dist-packages (from spacy>=2.2.2->en_core_web_sm==2.2.5) (2.0.3)\n",
            "Requirement already satisfied: thinc==7.4.0 in /usr/local/lib/python3.6/dist-packages (from spacy>=2.2.2->en_core_web_sm==2.2.5) (7.4.0)\n",
            "Requirement already satisfied: srsly<1.1.0,>=1.0.2 in /usr/local/lib/python3.6/dist-packages (from spacy>=2.2.2->en_core_web_sm==2.2.5) (1.0.2)\n",
            "Requirement already satisfied: numpy>=1.15.0 in /usr/local/lib/python3.6/dist-packages (from spacy>=2.2.2->en_core_web_sm==2.2.5) (1.18.3)\n",
            "Requirement already satisfied: blis<0.5.0,>=0.4.0 in /usr/local/lib/python3.6/dist-packages (from spacy>=2.2.2->en_core_web_sm==2.2.5) (0.4.1)\n",
            "Requirement already satisfied: wasabi<1.1.0,>=0.4.0 in /usr/local/lib/python3.6/dist-packages (from spacy>=2.2.2->en_core_web_sm==2.2.5) (0.6.0)\n",
            "Requirement already satisfied: tqdm<5.0.0,>=4.38.0 in /usr/local/lib/python3.6/dist-packages (from spacy>=2.2.2->en_core_web_sm==2.2.5) (4.38.0)\n",
            "Requirement already satisfied: preshed<3.1.0,>=3.0.2 in /usr/local/lib/python3.6/dist-packages (from spacy>=2.2.2->en_core_web_sm==2.2.5) (3.0.2)\n",
            "Requirement already satisfied: setuptools in /usr/local/lib/python3.6/dist-packages (from spacy>=2.2.2->en_core_web_sm==2.2.5) (46.1.3)\n",
            "Requirement already satisfied: murmurhash<1.1.0,>=0.28.0 in /usr/local/lib/python3.6/dist-packages (from spacy>=2.2.2->en_core_web_sm==2.2.5) (1.0.2)\n",
            "Requirement already satisfied: catalogue<1.1.0,>=0.0.7 in /usr/local/lib/python3.6/dist-packages (from spacy>=2.2.2->en_core_web_sm==2.2.5) (1.0.0)\n",
            "Requirement already satisfied: requests<3.0.0,>=2.13.0 in /usr/local/lib/python3.6/dist-packages (from spacy>=2.2.2->en_core_web_sm==2.2.5) (2.21.0)\n",
            "Requirement already satisfied: plac<1.2.0,>=0.9.6 in /usr/local/lib/python3.6/dist-packages (from spacy>=2.2.2->en_core_web_sm==2.2.5) (1.1.3)\n",
            "Requirement already satisfied: importlib-metadata>=0.20; python_version < \"3.8\" in /usr/local/lib/python3.6/dist-packages (from catalogue<1.1.0,>=0.0.7->spacy>=2.2.2->en_core_web_sm==2.2.5) (1.6.0)\n",
            "Requirement already satisfied: idna<2.9,>=2.5 in /usr/local/lib/python3.6/dist-packages (from requests<3.0.0,>=2.13.0->spacy>=2.2.2->en_core_web_sm==2.2.5) (2.8)\n",
            "Requirement already satisfied: certifi>=2017.4.17 in /usr/local/lib/python3.6/dist-packages (from requests<3.0.0,>=2.13.0->spacy>=2.2.2->en_core_web_sm==2.2.5) (2020.4.5.1)\n",
            "Requirement already satisfied: chardet<3.1.0,>=3.0.2 in /usr/local/lib/python3.6/dist-packages (from requests<3.0.0,>=2.13.0->spacy>=2.2.2->en_core_web_sm==2.2.5) (3.0.4)\n",
            "Requirement already satisfied: urllib3<1.25,>=1.21.1 in /usr/local/lib/python3.6/dist-packages (from requests<3.0.0,>=2.13.0->spacy>=2.2.2->en_core_web_sm==2.2.5) (1.24.3)\n",
            "Requirement already satisfied: zipp>=0.5 in /usr/local/lib/python3.6/dist-packages (from importlib-metadata>=0.20; python_version < \"3.8\"->catalogue<1.1.0,>=0.0.7->spacy>=2.2.2->en_core_web_sm==2.2.5) (3.1.0)\n",
            "\u001b[38;5;2m✔ Download and installation successful\u001b[0m\n",
            "You can now load the model via spacy.load('en_core_web_sm')\n"
          ],
          "name": "stdout"
        }
      ]
    },
    {
      "cell_type": "code",
      "metadata": {
        "id": "pTqiTcXGBwVv",
        "colab_type": "code",
        "colab": {}
      },
      "source": [
        "import nltk\n",
        "import numpy as np\n",
        "import wget\n",
        "import tarfile\n",
        "import xml.etree.ElementTree as ET\n",
        "import os\n",
        "import pandas as pd\n",
        "import matplotlib.pyplot as plt\n",
        "import zipfile\n",
        "from tqdm import tqdm\n",
        "\n",
        "path = os.getcwd()\n",
        "directory_unannotated = path + '/unannotated_xml'\n",
        "directory_annotated = path + '/train_xml'\n",
        "path_to_zip = path + '/osfstorage-archive.zip'\n",
        "path_to_extract = path + '/test_labels'"
      ],
      "execution_count": 0,
      "outputs": []
    },
    {
      "cell_type": "code",
      "metadata": {
        "id": "Rfk2nOscBzz3",
        "colab_type": "code",
        "colab": {}
      },
      "source": [
        "wget.download('https://bionlp.nlm.nih.gov/tac2017adversereactions/train_xml.tar.gz')\n",
        "wget.download('https://bionlp.nlm.nih.gov/tac2017adversereactions/unannotated_xml.tar.gz')\n",
        "wget.download(\"https://files.osf.io/v1/resources/n84w3/providers/osfstorage/?zip=\") \n",
        "tarfile.open('train_xml.tar.gz').extractall()\n",
        "tarfile.open('unannotated_xml.tar.gz').extractall()\n",
        "with zipfile.ZipFile(path_to_zip , 'r') as zip_ref:\n",
        "    zip_ref.extractall(path_to_extract)"
      ],
      "execution_count": 0,
      "outputs": []
    },
    {
      "cell_type": "code",
      "metadata": {
        "id": "gbb4bgvqCuCM",
        "colab_type": "code",
        "outputId": "df0b4dc6-6bf3-4331-b6c2-bfa115d067d3",
        "colab": {
          "base_uri": "https://localhost:8080/",
          "height": 52
        }
      },
      "source": [
        "# create pandas framework for the annotated and unannotated dataset\n",
        "df_cols_annotated = ['file_name',\"adverse_reactions\",\"warnings_and_precautions\",\"boxed_warnings\"]\n",
        "df_rows_annotated = []\n",
        "\n",
        "for filename in tqdm(sorted(os.listdir(directory_annotated))):\n",
        "    if filename.endswith(\".xml\"):\n",
        "        fullname = os.path.join(directory_annotated, filename)\n",
        "        tree = ET.parse(fullname)\n",
        "        root = tree.getroot()\n",
        "        text_adverse_reactions, text_warnings_and_precautions, text_boxed_warnings = \"\",\"\",\"\"\n",
        "        for section in root.findall('./Text/Section'):\n",
        "            if section.get('name') == \"adverse reactions\":\n",
        "                text_adverse_reactions = section.text\n",
        "            if section.get('name') == \"warnings and precautions\":\n",
        "                text_warnings_and_precautions = section.text\n",
        "            if section.get('name') == \"boxed warnings\":\n",
        "                text_boxed_warnings = section.text  \n",
        "        df_rows_annotated.append({\"file_name\": filename,\"adverse_reactions\": text_adverse_reactions, \"warnings_and_precautions\": text_warnings_and_precautions, \"boxed_warnings\": text_boxed_warnings})\n",
        "\n",
        "out_df = pd.DataFrame(df_rows_annotated,columns = df_cols_annotated)\n",
        "out_df.to_pickle(\"./drug_labels_annotated.pkl\")\n",
        "\n",
        "df_cols_unannotated = ['file_name',\"adverse_reactions\",\"warnings_and_precautions\",\"boxed_warnings\"]\n",
        "df_rows_unannotated = []\n",
        "\n",
        "for filename in tqdm(sorted(os.listdir(directory_unannotated))):\n",
        "    if filename.endswith(\".xml\"):\n",
        "        fullname = os.path.join(directory_unannotated, filename)\n",
        "        tree = ET.parse(fullname)\n",
        "        root = tree.getroot()\n",
        "        text_adverse_reactions, text_warnings_and_precautions, text_boxed_warnings = \"\",\"\",\"\"\n",
        "        for section in root.findall('./Text/Section'):\n",
        "            if section.get('name') == \"adverse reactions\":\n",
        "                text_adverse_reactions = section.text\n",
        "            if section.get('name') == \"warnings and precautions\":\n",
        "                text_warnings_and_precautions = section.text\n",
        "            if section.get('name') == \"boxed warnings\":\n",
        "                text_boxed_warnings = section.text  \n",
        "        df_rows_unannotated.append({\"file_name\": filename,\"adverse_reactions\": text_adverse_reactions, \"warnings_and_precautions\": text_warnings_and_precautions, \"boxed_warnings\": text_boxed_warnings})\n",
        "\n",
        "out_df = pd.DataFrame(df_rows_unannotated,columns = df_cols_unannotated)\n",
        "out_df.to_pickle(\"./drug_labels_unannotated.pkl\")"
      ],
      "execution_count": 0,
      "outputs": [
        {
          "output_type": "stream",
          "text": [
            "100%|██████████| 101/101 [00:00<00:00, 508.77it/s]\n",
            "100%|██████████| 2208/2208 [00:00<00:00, 5969.94it/s]\n"
          ],
          "name": "stderr"
        }
      ]
    },
    {
      "cell_type": "code",
      "metadata": {
        "id": "bgRkP5FwQ_IZ",
        "colab_type": "code",
        "outputId": "5b8cb5da-676e-4a2e-c639-860ca346bc75",
        "colab": {
          "base_uri": "https://localhost:8080/",
          "height": 66
        }
      },
      "source": [
        "nltk.download('punkt')"
      ],
      "execution_count": 0,
      "outputs": [
        {
          "output_type": "stream",
          "text": [
            "[nltk_data] Downloading package punkt to /root/nltk_data...\n",
            "[nltk_data]   Package punkt is already up-to-date!\n"
          ],
          "name": "stdout"
        },
        {
          "output_type": "execute_result",
          "data": {
            "text/plain": [
              "True"
            ]
          },
          "metadata": {
            "tags": []
          },
          "execution_count": 99
        }
      ]
    },
    {
      "cell_type": "code",
      "metadata": {
        "colab_type": "code",
        "id": "2M_PAoNR6IvD",
        "colab": {}
      },
      "source": [
        "# Tokenize the words in the pandas framework using NLTK (maybe try spaCy and Gensim as well)\n",
        "from nltk import word_tokenize, sent_tokenize\n",
        "\n",
        "def span(text):  \n",
        "  sentence_id = 0\n",
        "  for sentence in sent_tokenize(text):\n",
        "    tokens = nltk.word_tokenize(sentence)\n",
        "    offset = 0\n",
        "    for token in tokens:\n",
        "        offset = text.find(token,offset)\n",
        "        yield [token, offset, offset + len(token),sentence_id]\n",
        "        offset += len(token)\n",
        "    sentence_id += 1\n",
        "\n",
        "span_text = lambda x : span(x)\n",
        "\n",
        "drug_labels_annotated = pd.read_pickle('./drug_labels_annotated.pkl')\n",
        "drug_labels_annotated['adverse_reactions'] = drug_labels_annotated['adverse_reactions'].apply(span_text).apply(list) # each xml gets tokenized\n",
        "drug_labels_annotated['warnings_and_precautions'] = drug_labels_annotated['warnings_and_precautions'].apply(span_text).apply(list) # each xml gets tokenized\n",
        "drug_labels_annotated['boxed_warnings'] = drug_labels_annotated['boxed_warnings'].apply(span_text).apply(list) # each xml gets tokenized\n",
        "drug_labels_annotated.to_pickle(\"./drug_labels_annotated_tokens.pkl\")\n",
        "\n",
        "drug_labels_unannotated = pd.read_pickle('./drug_labels_unannotated.pkl')\n",
        "drug_labels_unannotated['adverse_reactions'] = drug_labels_unannotated['adverse_reactions'].apply(span_text).apply(list) # each xml gets tokenized\n",
        "drug_labels_unannotated['warnings_and_precautions'] = drug_labels_unannotated['warnings_and_precautions'].apply(span_text).apply(list) # each xml gets tokenized\n",
        "drug_labels_unannotated['boxed_warnings'] = drug_labels_unannotated['boxed_warnings'].apply(span_text).apply(list) # each xml gets tokenized\n",
        "drug_labels_unannotated.to_pickle(\"./drug_labels_unannotated_tokens.pkl\")"
      ],
      "execution_count": 0,
      "outputs": []
    },
    {
      "cell_type": "code",
      "metadata": {
        "id": "iKFyVf15Akjl",
        "colab_type": "code",
        "outputId": "0d5d418e-076a-4bbf-aa83-40a29a3a5fea",
        "colab": {
          "base_uri": "https://localhost:8080/",
          "height": 33
        }
      },
      "source": [
        "# back to the xml file, we want to add the tags from the training file to the tokens\n",
        "drug_labels_annotated = pd.read_pickle('./drug_labels_annotated.pkl')\n",
        "drug_labels_annotated_tokens = pd.read_pickle('./drug_labels_annotated_tokens.pkl')\n",
        "\n",
        "for filename in tqdm(drug_labels_annotated_tokens['file_name']):\n",
        "      index = drug_labels_annotated_tokens[drug_labels_annotated_tokens['file_name']==filename].index.values.astype(int)[0]\n",
        "      fullname = os.path.join(directory_annotated, filename)\n",
        "      tree = ET.parse(fullname)\n",
        "      root = tree.getroot()\n",
        "      tokens_adverse_reactions = drug_labels_annotated_tokens['adverse_reactions'][index]\n",
        "      for token in tokens_adverse_reactions:\n",
        "          token.append(\"O\")\n",
        "      tokens_warnings_and_precautions = drug_labels_annotated_tokens['warnings_and_precautions'][index]\n",
        "      for token in tokens_warnings_and_precautions:\n",
        "          token.append(\"O\")\n",
        "      tokens_boxed_warnings = drug_labels_annotated_tokens['boxed_warnings'][index]\n",
        "      for token in tokens_boxed_warnings:\n",
        "          token.append(\"O\")\n",
        "      for mention in root.findall('./Mentions/Mention'):\n",
        "          interval = [(int(x),int(x) + int(y)) for x, y in zip(mention.get('start').split(','), mention.get('len').split(','))]\n",
        "          tag = mention.get('type')\n",
        "          for i in interval:\n",
        "              if mention.get('section') == 'S1': \n",
        "                  for token in tokens_adverse_reactions:\n",
        "                      if token[1] >= i[0]: # start times are equal or greater\n",
        "                          token[4] = tag\n",
        "                          if token[2] >= i[1]: # if interval ends, break the loop\n",
        "                              break\n",
        "              elif mention.get('section') == 'S2': \n",
        "                  for token in tokens_warnings_and_precautions:\n",
        "                      if token[1] >= i[0]: # start times are equal or greater\n",
        "                          token[4] = tag\n",
        "                          if token[2] >= i[1]: # if interval ends, break the loop\n",
        "                              break\n",
        "              elif mention.get('section') == 'S3': \n",
        "                  for token in tokens_boxed_warnings:\n",
        "                      if token[1] >= i[0]: # start times are equal or greater\n",
        "                          token[4] = tag\n",
        "                          if token[2] >= i[1]: # if interval ends, break the loop\n",
        "                              break"
      ],
      "execution_count": 73,
      "outputs": [
        {
          "output_type": "stream",
          "text": [
            "100%|██████████| 101/101 [00:01<00:00, 62.26it/s]\n"
          ],
          "name": "stderr"
        }
      ]
    },
    {
      "cell_type": "code",
      "metadata": {
        "id": "7rJv0P73-MiJ",
        "colab_type": "code",
        "outputId": "d5dfae2b-563d-4db3-d6d3-0458930addae",
        "colab": {
          "base_uri": "https://localhost:8080/",
          "height": 204
        }
      },
      "source": [
        "drug_labels_annotated_tokens.head()"
      ],
      "execution_count": 0,
      "outputs": [
        {
          "output_type": "execute_result",
          "data": {
            "text/html": [
              "<div>\n",
              "<style scoped>\n",
              "    .dataframe tbody tr th:only-of-type {\n",
              "        vertical-align: middle;\n",
              "    }\n",
              "\n",
              "    .dataframe tbody tr th {\n",
              "        vertical-align: top;\n",
              "    }\n",
              "\n",
              "    .dataframe thead th {\n",
              "        text-align: right;\n",
              "    }\n",
              "</style>\n",
              "<table border=\"1\" class=\"dataframe\">\n",
              "  <thead>\n",
              "    <tr style=\"text-align: right;\">\n",
              "      <th></th>\n",
              "      <th>file_name</th>\n",
              "      <th>adverse_reactions</th>\n",
              "      <th>warnings_and_precautions</th>\n",
              "      <th>boxed_warnings</th>\n",
              "    </tr>\n",
              "  </thead>\n",
              "  <tbody>\n",
              "    <tr>\n",
              "      <th>0</th>\n",
              "      <td>ADCETRIS.xml</td>\n",
              "      <td>[[6, 4, 5, 0, O], [ADVERSE, 6, 13, 0, O], [REA...</td>\n",
              "      <td>[[5, 4, 5, 0, O], [WARNINGS, 6, 14, 0, O], [AN...</td>\n",
              "      <td>[[BOXED, 6, 11, 0, O], [WARNING, 12, 19, 0, O]...</td>\n",
              "    </tr>\n",
              "    <tr>\n",
              "      <th>1</th>\n",
              "      <td>ADREVIEW.xml</td>\n",
              "      <td>[[6, 4, 5, 0, O], [ADVERSE, 6, 13, 0, O], [REA...</td>\n",
              "      <td>[[5, 4, 5, 0, O], [WARNINGS, 6, 14, 0, O], [AN...</td>\n",
              "      <td>[]</td>\n",
              "    </tr>\n",
              "    <tr>\n",
              "      <th>2</th>\n",
              "      <td>AFINITOR.xml</td>\n",
              "      <td>[[6, 4, 5, 0, O], [ADVERSE, 10, 17, 0, O], [RE...</td>\n",
              "      <td>[[5, 4, 5, 0, O], [WARNINGS, 10, 18, 0, O], [A...</td>\n",
              "      <td>[]</td>\n",
              "    </tr>\n",
              "    <tr>\n",
              "      <th>3</th>\n",
              "      <td>AMPYRA.xml</td>\n",
              "      <td>[[6, 4, 5, 0, O], [ADVERSE, 6, 13, 0, O], [REA...</td>\n",
              "      <td>[[5, 4, 5, 0, O], [WARNINGS, 6, 14, 0, O], [AN...</td>\n",
              "      <td>[]</td>\n",
              "    </tr>\n",
              "    <tr>\n",
              "      <th>4</th>\n",
              "      <td>AMYVID.xml</td>\n",
              "      <td>[[6, 4, 5, 0, O], [ADVERSE, 6, 13, 0, O], [REA...</td>\n",
              "      <td>[[5, 4, 5, 0, O], [WARNINGS, 6, 14, 0, O], [AN...</td>\n",
              "      <td>[]</td>\n",
              "    </tr>\n",
              "  </tbody>\n",
              "</table>\n",
              "</div>"
            ],
            "text/plain": [
              "      file_name  ...                                     boxed_warnings\n",
              "0  ADCETRIS.xml  ...  [[BOXED, 6, 11, 0, O], [WARNING, 12, 19, 0, O]...\n",
              "1  ADREVIEW.xml  ...                                                 []\n",
              "2  AFINITOR.xml  ...                                                 []\n",
              "3    AMPYRA.xml  ...                                                 []\n",
              "4    AMYVID.xml  ...                                                 []\n",
              "\n",
              "[5 rows x 4 columns]"
            ]
          },
          "metadata": {
            "tags": []
          },
          "execution_count": 64
        }
      ]
    },
    {
      "cell_type": "code",
      "metadata": {
        "id": "Ro-j8LDydhAW",
        "colab_type": "code",
        "colab": {}
      },
      "source": [
        "# simplify the tags a bit (we don't need the intervals any more)\n",
        "def reduceTokens(tokens):\n",
        "  for token in tokens:\n",
        "    try:\n",
        "      token[1] = token[3]\n",
        "      token.remove(token[2])\n",
        "      token.remove(token[2])\n",
        "    except:\n",
        "      break\n",
        "\n",
        "drug_labels_annotated_tokens['adverse_reactions'].apply(reduceTokens)\n",
        "drug_labels_annotated_tokens['warnings_and_precautions'].apply(reduceTokens)\n",
        "drug_labels_annotated_tokens['boxed_warnings'].apply(reduceTokens)\n",
        "\n",
        "drug_labels_annotated_tokens = drug_labels_annotated_tokens.set_index('file_name',drop = True)\n",
        "drug_labels_annotated_tokens.to_pickle('./train_labels.pkl')"
      ],
      "execution_count": 0,
      "outputs": []
    },
    {
      "cell_type": "code",
      "metadata": {
        "id": "lI_L23UqotGZ",
        "colab_type": "code",
        "outputId": "ffa0cff0-5cba-4b9f-86ee-1be52916f82d",
        "colab": {
          "base_uri": "https://localhost:8080/",
          "height": 417
        }
      },
      "source": [
        "drug_labels_annotated_tokens"
      ],
      "execution_count": 5,
      "outputs": [
        {
          "output_type": "execute_result",
          "data": {
            "text/html": [
              "<div>\n",
              "<style scoped>\n",
              "    .dataframe tbody tr th:only-of-type {\n",
              "        vertical-align: middle;\n",
              "    }\n",
              "\n",
              "    .dataframe tbody tr th {\n",
              "        vertical-align: top;\n",
              "    }\n",
              "\n",
              "    .dataframe thead th {\n",
              "        text-align: right;\n",
              "    }\n",
              "</style>\n",
              "<table border=\"1\" class=\"dataframe\">\n",
              "  <thead>\n",
              "    <tr style=\"text-align: right;\">\n",
              "      <th></th>\n",
              "      <th>adverse_reactions</th>\n",
              "      <th>warnings_and_precautions</th>\n",
              "      <th>boxed_warnings</th>\n",
              "    </tr>\n",
              "    <tr>\n",
              "      <th>file_name</th>\n",
              "      <th></th>\n",
              "      <th></th>\n",
              "      <th></th>\n",
              "    </tr>\n",
              "  </thead>\n",
              "  <tbody>\n",
              "    <tr>\n",
              "      <th>ADCETRIS.xml</th>\n",
              "      <td>[[6, 0, O], [ADVERSE, 0, O], [REACTIONS, 0, O]...</td>\n",
              "      <td>[[5, 0, O], [WARNINGS, 0, O], [AND, 0, O], [PR...</td>\n",
              "      <td>[[BOXED, 0, O], [WARNING, 0, O], [:, 0, O], [W...</td>\n",
              "    </tr>\n",
              "    <tr>\n",
              "      <th>ADREVIEW.xml</th>\n",
              "      <td>[[6, 0, O], [ADVERSE, 0, O], [REACTIONS, 0, O]...</td>\n",
              "      <td>[[5, 0, O], [WARNINGS, 0, O], [AND, 0, O], [PR...</td>\n",
              "      <td>[]</td>\n",
              "    </tr>\n",
              "    <tr>\n",
              "      <th>AFINITOR.xml</th>\n",
              "      <td>[[6, 0, O], [ADVERSE, 0, O], [REACTIONS, 0, O]...</td>\n",
              "      <td>[[5, 0, O], [WARNINGS, 0, O], [AND, 0, O], [PR...</td>\n",
              "      <td>[]</td>\n",
              "    </tr>\n",
              "    <tr>\n",
              "      <th>AMPYRA.xml</th>\n",
              "      <td>[[6, 0, O], [ADVERSE, 0, O], [REACTIONS, 0, O]...</td>\n",
              "      <td>[[5, 0, O], [WARNINGS, 0, O], [AND, 0, O], [PR...</td>\n",
              "      <td>[]</td>\n",
              "    </tr>\n",
              "    <tr>\n",
              "      <th>AMYVID.xml</th>\n",
              "      <td>[[6, 0, O], [ADVERSE, 0, O], [REACTIONS, 0, O]...</td>\n",
              "      <td>[[5, 0, O], [WARNINGS, 0, O], [AND, 0, O], [PR...</td>\n",
              "      <td>[]</td>\n",
              "    </tr>\n",
              "    <tr>\n",
              "      <th>...</th>\n",
              "      <td>...</td>\n",
              "      <td>...</td>\n",
              "      <td>...</td>\n",
              "    </tr>\n",
              "    <tr>\n",
              "      <th>YERVOY.xml</th>\n",
              "      <td>[[6, 0, O], [ADVERSE, 0, O], [REACTIONS, 0, O]...</td>\n",
              "      <td>[[5, 0, O], [WARNINGS, 0, O], [AND, 0, O], [PR...</td>\n",
              "      <td>[[BOXED, 0, O], [WARNING, 0, O], [:, 0, O], [W...</td>\n",
              "    </tr>\n",
              "    <tr>\n",
              "      <th>ZERBAXA.xml</th>\n",
              "      <td>[[6, 0, O], [ADVERSE, 0, O], [REACTIONS, 0, O]...</td>\n",
              "      <td>[[5, 0, O], [WARNINGS, 0, O], [AND, 0, O], [PR...</td>\n",
              "      <td>[]</td>\n",
              "    </tr>\n",
              "    <tr>\n",
              "      <th>ZYDELIG.xml</th>\n",
              "      <td>[[6, 0, O], [ADVERSE, 0, O], [REACTIONS, 0, O]...</td>\n",
              "      <td>[[5, 0, O], [WARNINGS, 0, O], [AND, 0, O], [PR...</td>\n",
              "      <td>[[BOXED, 0, O], [WARNING, 0, O], [:, 0, O], [W...</td>\n",
              "    </tr>\n",
              "    <tr>\n",
              "      <th>ZYKADIA.xml</th>\n",
              "      <td>[[6, 0, O], [ADVERSE, 0, O], [REACTIONS, 0, O]...</td>\n",
              "      <td>[[5, 0, O], [WARNINGS, 0, O], [AND, 0, O], [PR...</td>\n",
              "      <td>[]</td>\n",
              "    </tr>\n",
              "    <tr>\n",
              "      <th>ZYTIGA.xml</th>\n",
              "      <td>[[6, 0, O], [ADVERSE, 0, O], [REACTIONS, 0, O]...</td>\n",
              "      <td>[[5, 0, O], [WARNINGS, 0, O], [AND, 0, O], [PR...</td>\n",
              "      <td>[]</td>\n",
              "    </tr>\n",
              "  </tbody>\n",
              "</table>\n",
              "<p>101 rows × 3 columns</p>\n",
              "</div>"
            ],
            "text/plain": [
              "                                              adverse_reactions  ...                                     boxed_warnings\n",
              "file_name                                                        ...                                                   \n",
              "ADCETRIS.xml  [[6, 0, O], [ADVERSE, 0, O], [REACTIONS, 0, O]...  ...  [[BOXED, 0, O], [WARNING, 0, O], [:, 0, O], [W...\n",
              "ADREVIEW.xml  [[6, 0, O], [ADVERSE, 0, O], [REACTIONS, 0, O]...  ...                                                 []\n",
              "AFINITOR.xml  [[6, 0, O], [ADVERSE, 0, O], [REACTIONS, 0, O]...  ...                                                 []\n",
              "AMPYRA.xml    [[6, 0, O], [ADVERSE, 0, O], [REACTIONS, 0, O]...  ...                                                 []\n",
              "AMYVID.xml    [[6, 0, O], [ADVERSE, 0, O], [REACTIONS, 0, O]...  ...                                                 []\n",
              "...                                                         ...  ...                                                ...\n",
              "YERVOY.xml    [[6, 0, O], [ADVERSE, 0, O], [REACTIONS, 0, O]...  ...  [[BOXED, 0, O], [WARNING, 0, O], [:, 0, O], [W...\n",
              "ZERBAXA.xml   [[6, 0, O], [ADVERSE, 0, O], [REACTIONS, 0, O]...  ...                                                 []\n",
              "ZYDELIG.xml   [[6, 0, O], [ADVERSE, 0, O], [REACTIONS, 0, O]...  ...  [[BOXED, 0, O], [WARNING, 0, O], [:, 0, O], [W...\n",
              "ZYKADIA.xml   [[6, 0, O], [ADVERSE, 0, O], [REACTIONS, 0, O]...  ...                                                 []\n",
              "ZYTIGA.xml    [[6, 0, O], [ADVERSE, 0, O], [REACTIONS, 0, O]...  ...                                                 []\n",
              "\n",
              "[101 rows x 3 columns]"
            ]
          },
          "metadata": {
            "tags": []
          },
          "execution_count": 5
        }
      ]
    },
    {
      "cell_type": "code",
      "metadata": {
        "id": "GmI2blMFVmrZ",
        "colab_type": "code",
        "outputId": "2feaf944-95d6-4f5b-c090-b85dfbe0599a",
        "colab": {
          "base_uri": "https://localhost:8080/",
          "height": 139
        }
      },
      "source": [
        "# get test set\n",
        "import re\n",
        "import os\n",
        "import nltk\n",
        "from nltk import word_tokenize, sent_tokenize\n",
        "import numpy as np\n",
        "\n",
        "def span(text):  \n",
        "  sentence_id = 0\n",
        "  for sentence in sent_tokenize(text):\n",
        "    tokens = nltk.word_tokenize(text)\n",
        "    offset = 0\n",
        "    for token in tokens:\n",
        "        offset = text.find(token,offset)\n",
        "        yield [token, offset, offset + len(token),sentence_id]\n",
        "        offset += len(token)\n",
        "    sentence_id += 1\n",
        "path = os.getcwd() + '/test_labels'\n",
        "print(path)\n",
        "\n",
        "#introduce pandas frame work:\n",
        "df_cols = [\"adverse_reactions\",\"adverse_reactions_tags\",\"warnings_and_precautions\",\"warnings_and_precautions_tags\",\"boxed_warnings\",\"boxed_warnings_tags\"]\n",
        "index = []\n",
        "\n",
        "for filename in tqdm(sorted(os.listdir(path))):\n",
        "    if filename.endswith(\"adverse_reactions.ann\"):\n",
        "        index.append(filename[:-22])  \n",
        "        \n",
        "df = pd.DataFrame(np.empty((len(index),len(df_cols),0)).tolist(),columns = df_cols, index=index)\n",
        "        \n",
        "for filename in tqdm(sorted(os.listdir(path))):\n",
        "    if filename.endswith(\"adverse_reactions.ann\"): \n",
        "        fullname = os.path.join(path, filename)\n",
        "        f = open(fullname,'r')\n",
        "        for x in f:\n",
        "          if x[0] == \"T\":\n",
        "            #split string\n",
        "            split_text = re.split('\\t|\\n|\\s',x)\n",
        "            tag = split_text[1]\n",
        "            start = True\n",
        "            intervals = []\n",
        "            start_index = 0\n",
        "            end_index = 0\n",
        "            for n in split_text[2:]:\n",
        "                if start:\n",
        "                    start = False\n",
        "                    start_index = int(n)\n",
        "                else:\n",
        "                    if n == re.split(';',n)[0]:\n",
        "                        end_index = n\n",
        "                        intervals.append([start_index,end_index])\n",
        "                        break\n",
        "                    else:\n",
        "                        end_index = re.split(';',n)[0]\n",
        "                        intervals.append([start_index,end_index])\n",
        "                        start_index = re.split(';',n)[1]\n",
        "            df.loc[filename[:-22],\"adverse_reactions_tags\"].append([tag,intervals])\n",
        "    if filename.endswith(\"warnings_and_precautions.ann\"): \n",
        "        fullname = os.path.join(path, filename)\n",
        "        f = open(fullname,'r')\n",
        "        for x in f:\n",
        "          if x[0] == \"T\":\n",
        "            #split string\n",
        "            split_text = re.split('\\t|\\n|\\s',x)\n",
        "            tag = split_text[1]\n",
        "            start = True\n",
        "            intervals = []\n",
        "            start_index = 0\n",
        "            end_index = 0\n",
        "            for n in split_text[2:]:\n",
        "                if start:\n",
        "                    start = False\n",
        "                    start_index = int(n)\n",
        "                else:\n",
        "                    if n == re.split(';',n)[0]:\n",
        "                        end_index = n\n",
        "                        intervals.append([start_index,end_index])\n",
        "                        break\n",
        "                    else:\n",
        "                        end_index = re.split(';',n)[0]\n",
        "                        intervals.append([start_index,end_index])\n",
        "                        start_index = re.split(';',n)[1]\n",
        "            df.loc[filename[:-29],\"warnings_and_precautions_tags\"].append([tag,intervals])\n",
        "    if filename.endswith(\"boxed_warnings.ann\"): \n",
        "        fullname = os.path.join(path, filename)\n",
        "        f = open(fullname,'r')\n",
        "        for x in f:\n",
        "          if x[0] == \"T\":\n",
        "            #split string\n",
        "            split_text = re.split('\\t|\\n|\\s',x)\n",
        "            tag = split_text[1]\n",
        "            start = True\n",
        "            intervals = []\n",
        "            start_index = 0\n",
        "            end_index = 0\n",
        "            for n in split_text[2:]:\n",
        "                if start:\n",
        "                    start = False\n",
        "                    start_index = int(n)\n",
        "                else:\n",
        "                    if n == re.split(';',n)[0]:\n",
        "                        end_index = n\n",
        "                        intervals.append([start_index,end_index])\n",
        "                        break\n",
        "                    else:\n",
        "                        end_index = re.split(';',n)[0]\n",
        "                        intervals.append([start_index,end_index])\n",
        "                        start_index = re.split(';',n)[1]\n",
        "            df.loc[filename[:-19],\"boxed_warnings_tags\"].append([tag,intervals])\n",
        "            \n",
        "for filename in tqdm(sorted(os.listdir(path))):\n",
        "    if filename.endswith(\"adverse_reactions.txt\"): \n",
        "        fullname = os.path.join(path, filename)\n",
        "        f = open(fullname,'r')\n",
        "        df.loc[filename[:-22],\"adverse_reactions\"] = list(span(f.read()))\n",
        "    if filename.endswith(\"warnings_and_precautions.txt\"): \n",
        "        fullname = os.path.join(path, filename)\n",
        "        f = open(fullname,'r')\n",
        "        df.loc[filename[:-29],\"warnings_and_precautions\"] = list(span(f.read()))\n",
        "    if filename.endswith(\"boxed_warnings.txt\"): \n",
        "        fullname = os.path.join(path, filename)\n",
        "        f = open(fullname,'r')\n",
        "        df.loc[filename[:-19],\"boxed_warnings\"] = list(span(f.read()))\n",
        "\n",
        "        \n",
        "def add_Os(A):\n",
        "    for i in A:\n",
        "        i.append(\"O\")\n",
        "    return A\n",
        "\n",
        "df['adverse_reactions'] = df['adverse_reactions'].apply(add_Os)\n",
        "df['warnings_and_precautions'] = df['warnings_and_precautions'].apply(add_Os)\n",
        "df['boxed_warnings'] = df['boxed_warnings'].apply(add_Os)\n",
        "\n",
        "for i in tqdm(range(len(df['adverse_reactions']))):\n",
        "    for tag in df['adverse_reactions_tags'][i]:\n",
        "        for interval in tag[1]:\n",
        "            start = int(interval[0])\n",
        "            end = int(interval[1])\n",
        "            for token in df['adverse_reactions'][i]:\n",
        "                if int(token[1]) >= start:\n",
        "                    token[4] = tag[0]\n",
        "                    if int(token[2]) >= end:\n",
        "                        break\n",
        "for i in tqdm(range(len(df['warnings_and_precautions']))):\n",
        "    for tag in df['warnings_and_precautions_tags'][i]:\n",
        "        for interval in tag[1]:\n",
        "            start = int(interval[0])\n",
        "            end = int(interval[1])\n",
        "            for token in df['warnings_and_precautions'][i]:\n",
        "                if int(token[1]) >= start:\n",
        "                    token[4] = tag[0]\n",
        "                    if int(token[2]) >= end:\n",
        "                        break\n",
        "for i in tqdm(range(len(df['boxed_warnings']))):\n",
        "    for tag in df['boxed_warnings_tags'][i]:\n",
        "        for interval in tag[1]:\n",
        "            start = int(interval[0])\n",
        "            end = int(interval[1])\n",
        "            for token in df['boxed_warnings'][i]:\n",
        "                if int(token[1]) >= start:\n",
        "                    token[4] = tag[0]\n",
        "                    if int(token[2]) >= end:\n",
        "                        break\n",
        "                        \n",
        "df = df.drop(['adverse_reactions_tags','warnings_and_precautions_tags', 'boxed_warnings_tags'], axis=1)\n",
        "\n",
        "df['adverse_reactions'].apply(reduceTokens)\n",
        "df['warnings_and_precautions'].apply(reduceTokens)\n",
        "df['boxed_warnings'].apply(reduceTokens)\n",
        "\n",
        "\n",
        "df.to_pickle('./test_labels.pkl')"
      ],
      "execution_count": 0,
      "outputs": [
        {
          "output_type": "stream",
          "text": [
            "100%|██████████| 477/477 [00:00<00:00, 1201611.42it/s]\n",
            " 34%|███▍      | 161/477 [00:00<00:00, 1604.58it/s]"
          ],
          "name": "stderr"
        },
        {
          "output_type": "stream",
          "text": [
            "/content/test_labels\n"
          ],
          "name": "stdout"
        },
        {
          "output_type": "stream",
          "text": [
            "100%|██████████| 477/477 [00:00<00:00, 1511.81it/s]\n",
            "100%|██████████| 477/477 [02:16<00:00,  3.50it/s]\n",
            "100%|██████████| 99/99 [00:02<00:00, 42.05it/s]\n",
            "100%|██████████| 99/99 [00:01<00:00, 64.03it/s]\n",
            "100%|██████████| 99/99 [00:00<00:00, 1251.88it/s]\n"
          ],
          "name": "stderr"
        }
      ]
    },
    {
      "cell_type": "code",
      "metadata": {
        "id": "Lb5UeooxWV7-",
        "colab_type": "code",
        "outputId": "8c7a6188-6099-4e85-e140-d9b820dacba6",
        "colab": {
          "base_uri": "https://localhost:8080/",
          "height": 406
        }
      },
      "source": [
        "test_labels_df = pd.read_pickle('./test_labels.pkl')\n",
        "train_labels_df = pd.read_pickle('./train_labels.pkl')"
      ],
      "execution_count": 6,
      "outputs": [
        {
          "output_type": "execute_result",
          "data": {
            "text/html": [
              "<div>\n",
              "<style scoped>\n",
              "    .dataframe tbody tr th:only-of-type {\n",
              "        vertical-align: middle;\n",
              "    }\n",
              "\n",
              "    .dataframe tbody tr th {\n",
              "        vertical-align: top;\n",
              "    }\n",
              "\n",
              "    .dataframe thead th {\n",
              "        text-align: right;\n",
              "    }\n",
              "</style>\n",
              "<table border=\"1\" class=\"dataframe\">\n",
              "  <thead>\n",
              "    <tr style=\"text-align: right;\">\n",
              "      <th></th>\n",
              "      <th>adverse_reactions</th>\n",
              "      <th>warnings_and_precautions</th>\n",
              "      <th>boxed_warnings</th>\n",
              "    </tr>\n",
              "  </thead>\n",
              "  <tbody>\n",
              "    <tr>\n",
              "      <th>ACTEMRA</th>\n",
              "      <td>[[6, 0, O], [ADVERSE, 0, O], [REACTIONS, 0, O]...</td>\n",
              "      <td>[[5, 0, O], [WARNINGS, 0, O], [AND, 0, O], [PR...</td>\n",
              "      <td>[[BOXED, 0, O], [WARNING, 0, O], [:, 0, O], [W...</td>\n",
              "    </tr>\n",
              "    <tr>\n",
              "      <th>AKYNZEO</th>\n",
              "      <td>[[6, 0, O], [ADVERSE, 0, O], [REACTIONS, 0, O]...</td>\n",
              "      <td>[[5, 0, O], [WARNINGS, 0, O], [AND, 0, O], [PR...</td>\n",
              "      <td>[]</td>\n",
              "    </tr>\n",
              "    <tr>\n",
              "      <th>ARZERRA</th>\n",
              "      <td>[[6, 0, O], [ADVERSE, 0, O], [REACTIONS, 0, O]...</td>\n",
              "      <td>[[5, 0, O], [WARNINGS, 0, O], [AND, 0, O], [PR...</td>\n",
              "      <td>[[BOXED, 0, O], [WARNING, 0, O], [:, 0, O], [W...</td>\n",
              "    </tr>\n",
              "    <tr>\n",
              "      <th>Adempas</th>\n",
              "      <td>[[6, 0, O], [ADVERSE, 0, O], [REACTIONS, 0, O]...</td>\n",
              "      <td>[[5, 0, O], [WARNINGS, 0, O], [AND, 0, O], [PR...</td>\n",
              "      <td>[[BOXED, 0, O], [WARNING, 0, O], [:, 0, O], [W...</td>\n",
              "    </tr>\n",
              "    <tr>\n",
              "      <th>Anoro</th>\n",
              "      <td>[[6, 0, O], [ADVERSE, 0, O], [REACTIONS, 0, O]...</td>\n",
              "      <td>[[5, 0, O], [WARNINGS, 0, O], [AND, 0, O], [PR...</td>\n",
              "      <td>[[BOXED, 0, O], [WARNING, 0, O], [:, 0, O], [W...</td>\n",
              "    </tr>\n",
              "    <tr>\n",
              "      <th>...</th>\n",
              "      <td>...</td>\n",
              "      <td>...</td>\n",
              "      <td>...</td>\n",
              "    </tr>\n",
              "    <tr>\n",
              "      <th>Xofigo</th>\n",
              "      <td>[[6, 0, O], [ADVERSE, 0, O], [REACTIONS, 0, O]...</td>\n",
              "      <td>[[5, 0, O], [WARNINGS, 0, O], [AND, 0, O], [PR...</td>\n",
              "      <td>[]</td>\n",
              "    </tr>\n",
              "    <tr>\n",
              "      <th>ZALTRAP</th>\n",
              "      <td>[[6, 0, O], [ADVERSE, 0, O], [REACTIONS, 0, O]...</td>\n",
              "      <td>[[5, 0, O], [WARNINGS, 0, O], [AND, 0, O], [PR...</td>\n",
              "      <td>[[BOXED, 0, O], [WARNING, 0, O], [:, 0, O], [W...</td>\n",
              "    </tr>\n",
              "    <tr>\n",
              "      <th>ZELBORAF</th>\n",
              "      <td>[[6, 0, O], [ADVERSE, 0, O], [REACTIONS, 0, O]...</td>\n",
              "      <td>[[5, 0, O], [WARNINGS, 0, O], [AND, 0, O], [PR...</td>\n",
              "      <td>[]</td>\n",
              "    </tr>\n",
              "    <tr>\n",
              "      <th>ZIOPTAN</th>\n",
              "      <td>[[6, 0, O], [ADVERSE, 0, O], [REACTIONS, 0, O]...</td>\n",
              "      <td>[[5, 0, O], [WARNINGS, 0, O], [AND, 0, O], [PR...</td>\n",
              "      <td>[]</td>\n",
              "    </tr>\n",
              "    <tr>\n",
              "      <th>ZONTIVITY</th>\n",
              "      <td>[[6, 0, O], [ADVERSE, 0, O], [REACTIONS, 0, O]...</td>\n",
              "      <td>[[5, 0, O], [WARNINGS, 0, O], [AND, 0, O], [PR...</td>\n",
              "      <td>[[BOXED, 0, O], [WARNING, 0, O], [:, 0, O], [W...</td>\n",
              "    </tr>\n",
              "  </tbody>\n",
              "</table>\n",
              "<p>99 rows × 3 columns</p>\n",
              "</div>"
            ],
            "text/plain": [
              "                                           adverse_reactions  ...                                     boxed_warnings\n",
              "ACTEMRA    [[6, 0, O], [ADVERSE, 0, O], [REACTIONS, 0, O]...  ...  [[BOXED, 0, O], [WARNING, 0, O], [:, 0, O], [W...\n",
              "AKYNZEO    [[6, 0, O], [ADVERSE, 0, O], [REACTIONS, 0, O]...  ...                                                 []\n",
              "ARZERRA    [[6, 0, O], [ADVERSE, 0, O], [REACTIONS, 0, O]...  ...  [[BOXED, 0, O], [WARNING, 0, O], [:, 0, O], [W...\n",
              "Adempas    [[6, 0, O], [ADVERSE, 0, O], [REACTIONS, 0, O]...  ...  [[BOXED, 0, O], [WARNING, 0, O], [:, 0, O], [W...\n",
              "Anoro      [[6, 0, O], [ADVERSE, 0, O], [REACTIONS, 0, O]...  ...  [[BOXED, 0, O], [WARNING, 0, O], [:, 0, O], [W...\n",
              "...                                                      ...  ...                                                ...\n",
              "Xofigo     [[6, 0, O], [ADVERSE, 0, O], [REACTIONS, 0, O]...  ...                                                 []\n",
              "ZALTRAP    [[6, 0, O], [ADVERSE, 0, O], [REACTIONS, 0, O]...  ...  [[BOXED, 0, O], [WARNING, 0, O], [:, 0, O], [W...\n",
              "ZELBORAF   [[6, 0, O], [ADVERSE, 0, O], [REACTIONS, 0, O]...  ...                                                 []\n",
              "ZIOPTAN    [[6, 0, O], [ADVERSE, 0, O], [REACTIONS, 0, O]...  ...                                                 []\n",
              "ZONTIVITY  [[6, 0, O], [ADVERSE, 0, O], [REACTIONS, 0, O]...  ...  [[BOXED, 0, O], [WARNING, 0, O], [:, 0, O], [W...\n",
              "\n",
              "[99 rows x 3 columns]"
            ]
          },
          "metadata": {
            "tags": []
          },
          "execution_count": 6
        }
      ]
    },
    {
      "cell_type": "code",
      "metadata": {
        "id": "J6HxbhCyyzBZ",
        "colab_type": "code",
        "outputId": "3e1c6d88-17cb-4796-fa66-55b46b890d0a",
        "colab": {
          "base_uri": "https://localhost:8080/",
          "height": 33
        }
      },
      "source": [
        "#training_set\n",
        "import itertools\n",
        "key_f = lambda x: x[1]\n",
        "texts_train = []\n",
        "labels_train = []\n",
        "for index,row in train_labels_df.iterrows():\n",
        "  for key, group in itertools.groupby(row['adverse_reactions'],key_f):\n",
        "    sentence = []\n",
        "    label_sentence = []\n",
        "    for i in list(group):\n",
        "      sentence.append(i[0])\n",
        "      label_sentence.append(i[2])\n",
        "    texts_train.append(sentence)\n",
        "    labels_train.append(label_sentence)\n",
        "for index,row in train_labels_df.iterrows():\n",
        "  for key, group in itertools.groupby(row['warnings_and_precautions'],key_f):\n",
        "    sentence = []\n",
        "    label_sentence = []\n",
        "    for i in list(group):\n",
        "      sentence.append(i[0])\n",
        "      label_sentence.append(i[2])\n",
        "    texts_train.append(sentence)\n",
        "    labels_train.append(label_sentence)\n",
        "for index,row in train_labels_df.iterrows():\n",
        "  for key, group in itertools.groupby(row['boxed_warnings'],key_f):\n",
        "    sentence = []\n",
        "    label_sentence = []\n",
        "    for i in list(group):\n",
        "      sentence.append(i[0])\n",
        "      label_sentence.append(i[2])\n",
        "    texts_train.append(sentence)\n",
        "    labels_train.append(label_sentence)\n",
        "\n",
        "# test data\n",
        "test_labels_df = pd.read_pickle('./test_labels.pkl')\n",
        "texts_test = []\n",
        "labels_test = []\n",
        "for index,row in test_labels_df.iterrows():\n",
        "  for key, group in itertools.groupby(row['adverse_reactions'],key_f):\n",
        "    sentence = []\n",
        "    label_sentence = []\n",
        "    for i in list(group):\n",
        "      sentence.append(i[0])\n",
        "      label_sentence.append(i[2])\n",
        "    texts_test.append(sentence)\n",
        "    labels_test.append(label_sentence)\n",
        "for index,row in test_labels_df.iterrows():\n",
        "  for key, group in itertools.groupby(row['warnings_and_precautions'],key_f):\n",
        "    sentence = []\n",
        "    label_sentence = []\n",
        "    for i in list(group):\n",
        "      sentence.append(i[0])\n",
        "      label_sentence.append(i[2])\n",
        "    texts_test.append(sentence)\n",
        "    labels_test.append(label_sentence)\n",
        "for index,row in test_labels_df.iterrows():\n",
        "  for key, group in itertools.groupby(row['boxed_warnings'],key_f):\n",
        "    sentence = []\n",
        "    label_sentence = []\n",
        "    for i in list(group):\n",
        "      sentence.append(i[0])\n",
        "      label_sentence.append(i[2])\n",
        "    texts_test.append(sentence)\n",
        "    labels_test.append(label_sentence)\n",
        "\n",
        "\n",
        "print(len(texts_train),len(labels_train),len(texts_test),len(labels_test))"
      ],
      "execution_count": 7,
      "outputs": [
        {
          "output_type": "stream",
          "text": [
            "8005 8005 8049 8049\n"
          ],
          "name": "stdout"
        }
      ]
    },
    {
      "cell_type": "code",
      "metadata": {
        "id": "zj7zZUx-znR7",
        "colab_type": "code",
        "colab": {}
      },
      "source": [
        "tag_values = ['AdverseReaction','Severity','Factor','Negation','Animal','DrugClass','O']\n",
        "tag_values.append(\"PAD\")\n",
        "tag2idx = {t: i for i, t in enumerate(tag_values)}"
      ],
      "execution_count": 0,
      "outputs": []
    },
    {
      "cell_type": "code",
      "metadata": {
        "id": "1x-zom31A21R",
        "colab_type": "code",
        "outputId": "ce8c451f-4aa9-43d2-ab69-6765ad70c1d7",
        "colab": {
          "base_uri": "https://localhost:8080/",
          "height": 375
        }
      },
      "source": [
        "!pip install transformers==2.6.0"
      ],
      "execution_count": 0,
      "outputs": [
        {
          "output_type": "stream",
          "text": [
            "Requirement already satisfied: transformers==2.6.0 in /usr/local/lib/python3.6/dist-packages (2.6.0)\n",
            "Requirement already satisfied: boto3 in /usr/local/lib/python3.6/dist-packages (from transformers==2.6.0) (1.12.40)\n",
            "Requirement already satisfied: tokenizers==0.5.2 in /usr/local/lib/python3.6/dist-packages (from transformers==2.6.0) (0.5.2)\n",
            "Requirement already satisfied: regex!=2019.12.17 in /usr/local/lib/python3.6/dist-packages (from transformers==2.6.0) (2019.12.20)\n",
            "Requirement already satisfied: tqdm>=4.27 in /usr/local/lib/python3.6/dist-packages (from transformers==2.6.0) (4.38.0)\n",
            "Requirement already satisfied: filelock in /usr/local/lib/python3.6/dist-packages (from transformers==2.6.0) (3.0.12)\n",
            "Requirement already satisfied: sentencepiece in /usr/local/lib/python3.6/dist-packages (from transformers==2.6.0) (0.1.85)\n",
            "Requirement already satisfied: requests in /usr/local/lib/python3.6/dist-packages (from transformers==2.6.0) (2.21.0)\n",
            "Requirement already satisfied: sacremoses in /usr/local/lib/python3.6/dist-packages (from transformers==2.6.0) (0.0.41)\n",
            "Requirement already satisfied: numpy in /usr/local/lib/python3.6/dist-packages (from transformers==2.6.0) (1.18.3)\n",
            "Requirement already satisfied: s3transfer<0.4.0,>=0.3.0 in /usr/local/lib/python3.6/dist-packages (from boto3->transformers==2.6.0) (0.3.3)\n",
            "Requirement already satisfied: jmespath<1.0.0,>=0.7.1 in /usr/local/lib/python3.6/dist-packages (from boto3->transformers==2.6.0) (0.9.5)\n",
            "Requirement already satisfied: botocore<1.16.0,>=1.15.40 in /usr/local/lib/python3.6/dist-packages (from boto3->transformers==2.6.0) (1.15.40)\n",
            "Requirement already satisfied: chardet<3.1.0,>=3.0.2 in /usr/local/lib/python3.6/dist-packages (from requests->transformers==2.6.0) (3.0.4)\n",
            "Requirement already satisfied: certifi>=2017.4.17 in /usr/local/lib/python3.6/dist-packages (from requests->transformers==2.6.0) (2020.4.5.1)\n",
            "Requirement already satisfied: urllib3<1.25,>=1.21.1 in /usr/local/lib/python3.6/dist-packages (from requests->transformers==2.6.0) (1.24.3)\n",
            "Requirement already satisfied: idna<2.9,>=2.5 in /usr/local/lib/python3.6/dist-packages (from requests->transformers==2.6.0) (2.8)\n",
            "Requirement already satisfied: joblib in /usr/local/lib/python3.6/dist-packages (from sacremoses->transformers==2.6.0) (0.14.1)\n",
            "Requirement already satisfied: six in /usr/local/lib/python3.6/dist-packages (from sacremoses->transformers==2.6.0) (1.12.0)\n",
            "Requirement already satisfied: click in /usr/local/lib/python3.6/dist-packages (from sacremoses->transformers==2.6.0) (7.1.1)\n",
            "Requirement already satisfied: python-dateutil<3.0.0,>=2.1 in /usr/local/lib/python3.6/dist-packages (from botocore<1.16.0,>=1.15.40->boto3->transformers==2.6.0) (2.8.1)\n",
            "Requirement already satisfied: docutils<0.16,>=0.10 in /usr/local/lib/python3.6/dist-packages (from botocore<1.16.0,>=1.15.40->boto3->transformers==2.6.0) (0.15.2)\n"
          ],
          "name": "stdout"
        }
      ]
    },
    {
      "cell_type": "code",
      "metadata": {
        "id": "97k_DkVQcUxC",
        "colab_type": "code",
        "outputId": "dd14ff50-6335-4d7f-c29d-7be41e325558",
        "colab": {
          "base_uri": "https://localhost:8080/",
          "height": 49
        }
      },
      "source": [
        "# Bert experiment \n",
        "\n",
        "import torch\n",
        "from tqdm import tqdm, trange\n",
        "from torch.utils.data import TensorDataset, DataLoader, RandomSampler, SequentialSampler\n",
        "from transformers import BertTokenizer, BertConfig\n",
        "\n",
        "from keras.preprocessing.sequence import pad_sequences\n",
        "from sklearn.model_selection import train_test_split\n",
        "\n",
        "torch.__version__"
      ],
      "execution_count": 9,
      "outputs": [
        {
          "output_type": "stream",
          "text": [
            "Using TensorFlow backend.\n"
          ],
          "name": "stderr"
        },
        {
          "output_type": "execute_result",
          "data": {
            "text/plain": [
              "'1.4.0'"
            ]
          },
          "metadata": {
            "tags": []
          },
          "execution_count": 9
        }
      ]
    },
    {
      "cell_type": "code",
      "metadata": {
        "id": "2ldWl4FNcvey",
        "colab_type": "code",
        "colab": {}
      },
      "source": [
        "MAX_LEN = 75\n",
        "bs = 32"
      ],
      "execution_count": 0,
      "outputs": []
    },
    {
      "cell_type": "code",
      "metadata": {
        "id": "XK7bQMBqc0gQ",
        "colab_type": "code",
        "outputId": "741d1628-cccf-43ff-8084-9c34073c95f1",
        "colab": {
          "base_uri": "https://localhost:8080/",
          "height": 33
        }
      },
      "source": [
        "device = torch.device(\"cuda\" if torch.cuda.is_available() else \"cpu\")\n",
        "n_gpu = torch.cuda.device_count()\n",
        "\n",
        "torch.cuda.get_device_name(0) "
      ],
      "execution_count": 11,
      "outputs": [
        {
          "output_type": "execute_result",
          "data": {
            "text/plain": [
              "'Tesla P100-PCIE-16GB'"
            ]
          },
          "metadata": {
            "tags": []
          },
          "execution_count": 11
        }
      ]
    },
    {
      "cell_type": "code",
      "metadata": {
        "id": "HA-QY9ymc38h",
        "colab_type": "code",
        "colab": {}
      },
      "source": [
        "tokenizer = BertTokenizer.from_pretrained('bert-base-cased', do_lower_case=False)"
      ],
      "execution_count": 0,
      "outputs": []
    },
    {
      "cell_type": "code",
      "metadata": {
        "id": "v5YUlYpec7B4",
        "colab_type": "code",
        "colab": {}
      },
      "source": [
        "def tokenize_and_preserve_labels(sentence, text_labels):\n",
        "    tokenized_sentence = []\n",
        "    labels = []\n",
        "\n",
        "    for word, label in zip(sentence, text_labels):\n",
        "\n",
        "        # Tokenize the word and count # of subwords the word is broken into\n",
        "        tokenized_word = tokenizer.tokenize(word)\n",
        "        n_subwords = len(tokenized_word)\n",
        "\n",
        "        # Add the tokenized word to the final tokenized word list\n",
        "        tokenized_sentence.extend(tokenized_word)\n",
        "\n",
        "        # Add the same label to the new list of labels `n_subwords` times\n",
        "        labels.extend([label] * n_subwords)\n",
        "\n",
        "    return tokenized_sentence, labels"
      ],
      "execution_count": 0,
      "outputs": []
    },
    {
      "cell_type": "code",
      "metadata": {
        "id": "jTJfX5JA1-WK",
        "colab_type": "code",
        "outputId": "a21605fb-cce9-408c-e1b5-e90ca02953aa",
        "colab": {
          "base_uri": "https://localhost:8080/",
          "height": 33
        }
      },
      "source": [
        "texts = texts_train + texts_test\n",
        "labels = labels_train + labels_test\n",
        "print(len(texts),len(labels))"
      ],
      "execution_count": 14,
      "outputs": [
        {
          "output_type": "stream",
          "text": [
            "16054 16054\n"
          ],
          "name": "stdout"
        }
      ]
    },
    {
      "cell_type": "code",
      "metadata": {
        "id": "jxRvAYjyqpBP",
        "colab_type": "code",
        "colab": {}
      },
      "source": [
        "tokenized_texts_and_labels = [\n",
        "    tokenize_and_preserve_labels(sent, labs)\n",
        "    for sent, labs in zip(texts, labels)\n",
        "]"
      ],
      "execution_count": 0,
      "outputs": []
    },
    {
      "cell_type": "code",
      "metadata": {
        "id": "Ow_nEmIW2Zcr",
        "colab_type": "code",
        "colab": {}
      },
      "source": [
        "tokenized_texts = [token_label_pair[0] for token_label_pair in tokenized_texts_and_labels]\n",
        "labels = [token_label_pair[1] for token_label_pair in tokenized_texts_and_labels]"
      ],
      "execution_count": 0,
      "outputs": []
    },
    {
      "cell_type": "code",
      "metadata": {
        "id": "qV3d6DlO4wgD",
        "colab_type": "code",
        "colab": {}
      },
      "source": [
        "input_ids = pad_sequences([tokenizer.convert_tokens_to_ids(txt) for txt in tokenized_texts],\n",
        "                          maxlen=MAX_LEN, dtype=\"long\", truncating=\"post\", padding=\"post\")"
      ],
      "execution_count": 0,
      "outputs": []
    },
    {
      "cell_type": "code",
      "metadata": {
        "id": "lJJsrUyB46ub",
        "colab_type": "code",
        "colab": {}
      },
      "source": [
        "tags = pad_sequences([[tag2idx.get(l) for l in lab] for lab in labels],\n",
        "                     maxlen=MAX_LEN, value=tag2idx[\"PAD\"], padding=\"post\",\n",
        "                     dtype=\"long\", truncating=\"post\")"
      ],
      "execution_count": 0,
      "outputs": []
    },
    {
      "cell_type": "code",
      "metadata": {
        "id": "SBgNOAvn6j49",
        "colab_type": "code",
        "colab": {}
      },
      "source": [
        "attention_masks = [[float(i != tag2idx[\"PAD\"]) for i in ii] for ii in input_ids]"
      ],
      "execution_count": 0,
      "outputs": []
    },
    {
      "cell_type": "code",
      "metadata": {
        "id": "TKFBb4mt7Kk_",
        "colab_type": "code",
        "colab": {}
      },
      "source": [
        "tr_inputs, val_inputs, tr_tags, val_tags = train_test_split(input_ids, tags, \n",
        "                                                            random_state=2018, test_size=0.1)\n",
        "tr_masks, val_masks, _, _ = train_test_split(attention_masks, input_ids,\n",
        "                                             random_state=2018, test_size=0.1)"
      ],
      "execution_count": 0,
      "outputs": []
    },
    {
      "cell_type": "code",
      "metadata": {
        "id": "1kX8UOLD7X83",
        "colab_type": "code",
        "colab": {}
      },
      "source": [
        "tr_inputs = torch.tensor(tr_inputs)\n",
        "val_inputs = torch.tensor(val_inputs)\n",
        "tr_tags = torch.tensor(tr_tags)\n",
        "val_tags = torch.tensor(val_tags)\n",
        "tr_masks = torch.tensor(tr_masks)\n",
        "val_masks = torch.tensor(val_masks)"
      ],
      "execution_count": 0,
      "outputs": []
    },
    {
      "cell_type": "code",
      "metadata": {
        "id": "FP53r2lI7avd",
        "colab_type": "code",
        "colab": {}
      },
      "source": [
        "train_data = TensorDataset(tr_inputs, tr_masks, tr_tags)\n",
        "train_sampler = RandomSampler(train_data)\n",
        "train_dataloader = DataLoader(train_data, sampler=train_sampler, batch_size=bs)\n",
        "\n",
        "valid_data = TensorDataset(val_inputs, val_masks, val_tags)\n",
        "valid_sampler = SequentialSampler(valid_data)\n",
        "valid_dataloader = DataLoader(valid_data, sampler=valid_sampler, batch_size=bs)"
      ],
      "execution_count": 0,
      "outputs": []
    },
    {
      "cell_type": "code",
      "metadata": {
        "id": "UBYUX3sX7drA",
        "colab_type": "code",
        "outputId": "a165e507-3517-4642-9d6d-a186868abd94",
        "colab": {
          "base_uri": "https://localhost:8080/",
          "height": 33
        }
      },
      "source": [
        "import transformers\n",
        "from transformers import BertForTokenClassification, AdamW\n",
        "\n",
        "transformers.__version__"
      ],
      "execution_count": 23,
      "outputs": [
        {
          "output_type": "execute_result",
          "data": {
            "text/plain": [
              "'2.6.0'"
            ]
          },
          "metadata": {
            "tags": []
          },
          "execution_count": 23
        }
      ]
    },
    {
      "cell_type": "code",
      "metadata": {
        "id": "2elIkL307gEv",
        "colab_type": "code",
        "colab": {}
      },
      "source": [
        "model = BertForTokenClassification.from_pretrained(\n",
        "    \"bert-base-cased\",\n",
        "    num_labels=len(tag2idx),\n",
        "    output_attentions = False,\n",
        "    output_hidden_states = False\n",
        ")"
      ],
      "execution_count": 0,
      "outputs": []
    },
    {
      "cell_type": "code",
      "metadata": {
        "id": "tQLhW3-X7iEe",
        "colab_type": "code",
        "colab": {}
      },
      "source": [
        "model.cuda();"
      ],
      "execution_count": 0,
      "outputs": []
    },
    {
      "cell_type": "code",
      "metadata": {
        "id": "yNbSaAIdAyFf",
        "colab_type": "code",
        "colab": {}
      },
      "source": [
        "FULL_FINETUNING = True\n",
        "if FULL_FINETUNING:\n",
        "    param_optimizer = list(model.named_parameters())\n",
        "    no_decay = ['bias', 'gamma', 'beta']\n",
        "    optimizer_grouped_parameters = [\n",
        "        {'params': [p for n, p in param_optimizer if not any(nd in n for nd in no_decay)],\n",
        "         'weight_decay_rate': 0.01},\n",
        "        {'params': [p for n, p in param_optimizer if any(nd in n for nd in no_decay)],\n",
        "         'weight_decay_rate': 0.0}\n",
        "    ]\n",
        "else:\n",
        "    param_optimizer = list(model.classifier.named_parameters()) \n",
        "    optimizer_grouped_parameters = [{\"params\": [p for n, p in param_optimizer]}]\n",
        "\n",
        "optimizer = AdamW(\n",
        "    optimizer_grouped_parameters,        \n",
        "    lr=3e-5,\n",
        "    eps=1e-8\n",
        ")"
      ],
      "execution_count": 0,
      "outputs": []
    },
    {
      "cell_type": "code",
      "metadata": {
        "id": "fi8YZ5B3p774",
        "colab_type": "code",
        "colab": {}
      },
      "source": [
        "from transformers import get_linear_schedule_with_warmup\n",
        "\n",
        "epochs = 3\n",
        "max_grad_norm = 1.0\n",
        "\n",
        "# Total number of training steps is number of batches * number of epochs.\n",
        "total_steps = len(train_dataloader) * epochs\n",
        "\n",
        "# Create the learning rate scheduler.\n",
        "scheduler = get_linear_schedule_with_warmup(\n",
        "    optimizer, \n",
        "    num_warmup_steps=0,\n",
        "    \n",
        "    num_training_steps=total_steps\n",
        ")"
      ],
      "execution_count": 0,
      "outputs": []
    },
    {
      "cell_type": "code",
      "metadata": {
        "id": "y1apar2cq3Hp",
        "colab_type": "code",
        "outputId": "42093d21-ccca-41f9-8171-f57dcb4b1d2c",
        "colab": {
          "base_uri": "https://localhost:8080/",
          "height": 165
        }
      },
      "source": [
        "!pip install seqeval"
      ],
      "execution_count": 28,
      "outputs": [
        {
          "output_type": "stream",
          "text": [
            "Requirement already satisfied: seqeval in /usr/local/lib/python3.6/dist-packages (0.0.12)\n",
            "Requirement already satisfied: Keras>=2.2.4 in /usr/local/lib/python3.6/dist-packages (from seqeval) (2.3.1)\n",
            "Requirement already satisfied: numpy>=1.14.0 in /usr/local/lib/python3.6/dist-packages (from seqeval) (1.18.3)\n",
            "Requirement already satisfied: scipy>=0.14 in /usr/local/lib/python3.6/dist-packages (from Keras>=2.2.4->seqeval) (1.4.1)\n",
            "Requirement already satisfied: pyyaml in /usr/local/lib/python3.6/dist-packages (from Keras>=2.2.4->seqeval) (3.13)\n",
            "Requirement already satisfied: keras-preprocessing>=1.0.5 in /usr/local/lib/python3.6/dist-packages (from Keras>=2.2.4->seqeval) (1.1.0)\n",
            "Requirement already satisfied: h5py in /usr/local/lib/python3.6/dist-packages (from Keras>=2.2.4->seqeval) (2.10.0)\n",
            "Requirement already satisfied: six>=1.9.0 in /usr/local/lib/python3.6/dist-packages (from Keras>=2.2.4->seqeval) (1.12.0)\n",
            "Requirement already satisfied: keras-applications>=1.0.6 in /usr/local/lib/python3.6/dist-packages (from Keras>=2.2.4->seqeval) (1.0.8)\n"
          ],
          "name": "stdout"
        }
      ]
    },
    {
      "cell_type": "code",
      "metadata": {
        "id": "RgTGdpk9qCpp",
        "colab_type": "code",
        "colab": {}
      },
      "source": [
        "from seqeval.metrics import f1_score\n",
        "\n",
        "def flat_accuracy(preds, labels):\n",
        "    pred_flat = np.argmax(preds, axis=2).flatten()\n",
        "    labels_flat = labels.flatten()\n",
        "    return np.sum(pred_flat == labels_flat) / len(labels_flat)"
      ],
      "execution_count": 0,
      "outputs": []
    },
    {
      "cell_type": "code",
      "metadata": {
        "id": "7HYZdkmyqF4N",
        "colab_type": "code",
        "outputId": "4aaf17e0-9421-403a-bb0b-708e2101be78",
        "colab": {
          "base_uri": "https://localhost:8080/",
          "height": 280
        }
      },
      "source": [
        "## Store the average loss after each epoch so we can plot them.\n",
        "from tqdm import tqdm, trange\n",
        "loss_values, validation_loss_values = [], []\n",
        "\n",
        "for _ in trange(epochs, desc=\"Epoch\"):\n",
        "    # ========================================\n",
        "    #               Training\n",
        "    # ========================================\n",
        "    # Perform one full pass over the training set.\n",
        "    \n",
        "    # Put the model into training mode.\n",
        "    model.train()\n",
        "    # Reset the total loss for this epoch.\n",
        "    total_loss = 0\n",
        "\n",
        "    # Training loop\n",
        "    for step, batch in enumerate(train_dataloader):\n",
        "        # add batch to gpu\n",
        "        batch = tuple(t.to(device) for t in batch)\n",
        "        b_input_ids, b_input_mask, b_labels = batch\n",
        "        # Always clear any previously calculated gradients before performing a backward pass.\n",
        "        model.zero_grad()\n",
        "        # forward pass\n",
        "        # This will return the loss (rather than the model output)\n",
        "        # because we have provided the `labels`.\n",
        "        outputs = model(b_input_ids, token_type_ids=None,\n",
        "                        attention_mask=b_input_mask, labels=b_labels)\n",
        "        # get the loss\n",
        "        loss = outputs[0]\n",
        "        # Perform a backward pass to calculate the gradients.\n",
        "        loss.backward()\n",
        "        # track train loss\n",
        "        total_loss += loss.item()    \n",
        "        # Clip the norm of the gradient\n",
        "        # This is to help prevent the \"exploding gradients\" problem.\n",
        "        torch.nn.utils.clip_grad_norm_(parameters=model.parameters(), max_norm=max_grad_norm)\n",
        "        # update parameters\n",
        "        optimizer.step()\n",
        "        # Update the learning rate.\n",
        "        scheduler.step()\n",
        "        \n",
        "    # Calculate the average loss over the training data.\n",
        "    avg_train_loss = total_loss / len(train_dataloader)\n",
        "    print(\"Average train loss: {}\".format(avg_train_loss))\n",
        "    \n",
        "    # Store the loss value for plotting the learning curve.\n",
        "    loss_values.append(avg_train_loss)\n",
        "    \n",
        "    \n",
        "    # ========================================\n",
        "    #               Validation\n",
        "    # ========================================\n",
        "    # After the completion of each training epoch, measure our performance on\n",
        "    # our validation set.\n",
        "    \n",
        "    # Put the model into evaluation mode\n",
        "    model.eval()\n",
        "    # Reset the validation loss for this epoch.\n",
        "    eval_loss, eval_accuracy = 0, 0\n",
        "    nb_eval_steps, nb_eval_examples = 0, 0\n",
        "    predictions , true_labels = [], []\n",
        "    for batch in valid_dataloader:\n",
        "        batch = tuple(t.to(device) for t in batch)\n",
        "        b_input_ids, b_input_mask, b_labels = batch\n",
        "        \n",
        "        # Telling the model not to compute or store gradients,\n",
        "        # saving memory and speeding up validation\n",
        "        with torch.no_grad():\n",
        "            # Forward pass, calculate logit predictions.\n",
        "            # This will return the logits rather than the loss because we have not provided labels.\n",
        "            outputs = model(b_input_ids, token_type_ids=None,\n",
        "                            attention_mask=b_input_mask, labels=b_labels)\n",
        "        # Move logits and labels to CPU\n",
        "        logits = outputs[1].detach().cpu().numpy()\n",
        "        label_ids = b_labels.to('cpu').numpy()\n",
        "        \n",
        "        # Calculate the accuracy for this batch of test sentences.\n",
        "        eval_loss += outputs[0].mean().item()\n",
        "        eval_accuracy += flat_accuracy(logits, label_ids)\n",
        "        predictions.extend([list(p) for p in np.argmax(logits, axis=2)])\n",
        "        true_labels.append(label_ids)\n",
        "        \n",
        "        nb_eval_examples += b_input_ids.size(0)\n",
        "        nb_eval_steps += 1\n",
        "    \n",
        "    eval_loss = eval_loss / nb_eval_steps\n",
        "    validation_loss_values.append(eval_loss)\n",
        "    print(\"Validation loss: {}\".format(eval_loss))\n",
        "    print(\"Validation Accuracy: {}\".format(eval_accuracy/nb_eval_steps))\n",
        "    pred_tags = [tag_values[p_i] for p in predictions for p_i in p]\n",
        "    valid_tags = [tag_values[l_ii] for l in true_labels for l_i in l for l_ii in l_i]\n",
        "    print(\"Validation F1-Score: {}\".format(f1_score(pred_tags, valid_tags)))\n",
        "    print()"
      ],
      "execution_count": 30,
      "outputs": [
        {
          "output_type": "stream",
          "text": [
            "\rEpoch:   0%|          | 0/3 [00:00<?, ?it/s]"
          ],
          "name": "stderr"
        },
        {
          "output_type": "stream",
          "text": [
            "Average train loss: 0.0981011407787755\n",
            "Validation loss: 0.0709766848012805\n",
            "Validation Accuracy: 0.9817156862745097\n"
          ],
          "name": "stdout"
        },
        {
          "output_type": "stream",
          "text": [
            "\rEpoch:  33%|███▎      | 1/3 [02:14<04:29, 134.78s/it]"
          ],
          "name": "stderr"
        },
        {
          "output_type": "stream",
          "text": [
            "Validation F1-Score: 0.7358798563499837\n",
            "\n",
            "Average train loss: 0.06452631880014113\n",
            "Validation loss: 0.06866033609006919\n",
            "Validation Accuracy: 0.9815713507625272\n"
          ],
          "name": "stdout"
        },
        {
          "output_type": "stream",
          "text": [
            "\rEpoch:  67%|██████▋   | 2/3 [04:29<02:14, 134.72s/it]"
          ],
          "name": "stderr"
        },
        {
          "output_type": "stream",
          "text": [
            "Validation F1-Score: 0.7526299969942891\n",
            "\n",
            "Average train loss: 0.05271423808649281\n",
            "Validation loss: 0.07028467889290814\n",
            "Validation Accuracy: 0.9831808278867104\n"
          ],
          "name": "stdout"
        },
        {
          "output_type": "stream",
          "text": [
            "Epoch: 100%|██████████| 3/3 [06:44<00:00, 134.70s/it]"
          ],
          "name": "stderr"
        },
        {
          "output_type": "stream",
          "text": [
            "Validation F1-Score: 0.7704160246533128\n",
            "\n"
          ],
          "name": "stdout"
        },
        {
          "output_type": "stream",
          "text": [
            "\n"
          ],
          "name": "stderr"
        }
      ]
    },
    {
      "cell_type": "code",
      "metadata": {
        "id": "s67QPN2qqJpk",
        "colab_type": "code",
        "outputId": "dd2cc597-445a-492f-f54e-1de571433f92",
        "colab": {
          "base_uri": "https://localhost:8080/",
          "height": 460
        }
      },
      "source": [
        "import matplotlib.pyplot as plt\n",
        "%matplotlib inline\n",
        "\n",
        "import seaborn as sns\n",
        "\n",
        "# Use plot styling from seaborn.\n",
        "sns.set(style='darkgrid')\n",
        "\n",
        "# Increase the plot size and font size.\n",
        "sns.set(font_scale=1.5)\n",
        "plt.rcParams[\"figure.figsize\"] = (12,6)\n",
        "\n",
        "# Plot the learning curve.\n",
        "plt.plot(loss_values, 'b-o', label=\"training loss\")\n",
        "plt.plot(validation_loss_values, 'r-o', label=\"validation loss\")\n",
        "\n",
        "# Label the plot.\n",
        "plt.title(\"Learning curve\")\n",
        "plt.xlabel(\"Epoch\")\n",
        "plt.ylabel(\"Loss\")\n",
        "plt.legend()\n",
        "\n",
        "plt.show()"
      ],
      "execution_count": 31,
      "outputs": [
        {
          "output_type": "stream",
          "text": [
            "/usr/local/lib/python3.6/dist-packages/statsmodels/tools/_testing.py:19: FutureWarning: pandas.util.testing is deprecated. Use the functions in the public API at pandas.testing instead.\n",
            "  import pandas.util.testing as tm\n"
          ],
          "name": "stderr"
        },
        {
          "output_type": "display_data",
          "data": {
            "image/png": "[encoded data removed]",
            "text/plain": [
              "<Figure size 864x432 with 1 Axes>"
            ]
          },
          "metadata": {
            "tags": []
          }
        }
      ]
    },
    {
      "cell_type": "code",
      "metadata": {
        "id": "SmMNZF_Q2sZe",
        "colab_type": "code",
        "colab": {}
      },
      "source": [
        "test_sentence = \"\"\"\n",
        "The most commonly reported side effect of methoxsalen alone is nausea, which occurs with approximately 10% of all patients. This effect may be minimized or avoided by instructing the patient to take methoxsalen with milk or food, or to divide the dose into two portions, taken approximately one-half hour apart. Other effects include nervousness, insomnia, and psychological depression.\n",
        "\"\"\""
      ],
      "execution_count": 0,
      "outputs": []
    },
    {
      "cell_type": "code",
      "metadata": {
        "id": "orxNuwzF0HxP",
        "colab_type": "code",
        "colab": {}
      },
      "source": [
        "tokenized_sentence = tokenizer.encode(test_sentence)\n",
        "input_ids = torch.tensor([tokenized_sentence]).cuda()"
      ],
      "execution_count": 0,
      "outputs": []
    },
    {
      "cell_type": "code",
      "metadata": {
        "id": "rrqIUL422xkp",
        "colab_type": "code",
        "colab": {}
      },
      "source": [
        "with torch.no_grad():\n",
        "    output = model(input_ids)\n",
        "label_indices = np.argmax(output[0].to('cpu').numpy(), axis=2)"
      ],
      "execution_count": 0,
      "outputs": []
    },
    {
      "cell_type": "code",
      "metadata": {
        "id": "BfS2H2vu2yZ8",
        "colab_type": "code",
        "colab": {}
      },
      "source": [
        "# join bpe split tokens\n",
        "tokens = tokenizer.convert_ids_to_tokens(input_ids.to('cpu').numpy()[0])\n",
        "new_tokens, new_labels = [], []\n",
        "for token, label_idx in zip(tokens, label_indices[0]):\n",
        "    if token.startswith(\"##\"):\n",
        "        new_tokens[-1] = new_tokens[-1] + token[2:]\n",
        "    else:\n",
        "        new_labels.append(tag_values[label_idx])\n",
        "        new_tokens.append(token)"
      ],
      "execution_count": 0,
      "outputs": []
    },
    {
      "cell_type": "code",
      "metadata": {
        "id": "gJMY4Hp922ax",
        "colab_type": "code",
        "outputId": "6f6dd12e-7b19-4a86-8338-bf2ae9b8639f",
        "colab": {
          "base_uri": "https://localhost:8080/",
          "height": 1000
        }
      },
      "source": [
        "for token, label in zip(new_tokens, new_labels):\n",
        "    print(\"{}\\t{}\".format(label, token))"
      ],
      "execution_count": 41,
      "outputs": [
        {
          "output_type": "stream",
          "text": [
            "O\t[CLS]\n",
            "O\tThe\n",
            "O\tmost\n",
            "O\tcommonly\n",
            "O\treported\n",
            "O\tside\n",
            "O\teffect\n",
            "O\tof\n",
            "O\tmethoxsalen\n",
            "O\talone\n",
            "O\tis\n",
            "AdverseReaction\tnausea\n",
            "O\t,\n",
            "O\twhich\n",
            "O\toccurs\n",
            "O\twith\n",
            "O\tapproximately\n",
            "O\t10\n",
            "O\t%\n",
            "O\tof\n",
            "O\tall\n",
            "O\tpatients\n",
            "O\t.\n",
            "O\tThis\n",
            "O\teffect\n",
            "O\tmay\n",
            "O\tbe\n",
            "O\tminimized\n",
            "O\tor\n",
            "O\tavoided\n",
            "O\tby\n",
            "O\tinstructing\n",
            "O\tthe\n",
            "O\tpatient\n",
            "O\tto\n",
            "O\ttake\n",
            "O\tmethoxsalen\n",
            "O\twith\n",
            "O\tmilk\n",
            "O\tor\n",
            "O\tfood\n",
            "O\t,\n",
            "O\tor\n",
            "O\tto\n",
            "O\tdivide\n",
            "O\tthe\n",
            "O\tdose\n",
            "O\tinto\n",
            "O\ttwo\n",
            "O\tportions\n",
            "O\t,\n",
            "O\ttaken\n",
            "O\tapproximately\n",
            "O\tone\n",
            "O\t-\n",
            "O\thalf\n",
            "O\thour\n",
            "O\tapart\n",
            "O\t.\n",
            "O\tOther\n",
            "O\teffects\n",
            "O\tinclude\n",
            "AdverseReaction\tnervousness\n",
            "O\t,\n",
            "AdverseReaction\tinsomnia\n",
            "O\t,\n",
            "O\tand\n",
            "AdverseReaction\tpsychological\n",
            "AdverseReaction\tdepression\n",
            "O\t.\n",
            "O\t[SEP]\n"
          ],
          "name": "stdout"
        }
      ]
    },
    {
      "cell_type": "code",
      "metadata": {
        "id": "EINQEBWwB6WG",
        "colab_type": "code",
        "colab": {}
      },
      "source": [
        "from pydrive.auth import GoogleAuth\n",
        "from pydrive.drive import GoogleDrive\n",
        "from google.colab import auth\n",
        "from oauth2client.client import GoogleCredentials\n",
        "# drive.mount('/content/drive')\n",
        "# torch.save(model.state_dict(), '/content/drive')"
      ],
      "execution_count": 0,
      "outputs": []
    },
    {
      "cell_type": "code",
      "metadata": {
        "id": "atWsB4kFB9ay",
        "colab_type": "code",
        "colab": {}
      },
      "source": [
        "auth.authenticate_user()\n",
        "gauth = GoogleAuth()\n",
        "gauth.credentials = GoogleCredentials.get_application_default()\n",
        "drive = GoogleDrive(gauth)"
      ],
      "execution_count": 0,
      "outputs": []
    },
    {
      "cell_type": "code",
      "metadata": {
        "id": "EM_LvQ81D7qQ",
        "colab_type": "code",
        "colab": {
          "base_uri": "https://localhost:8080/",
          "height": 49
        },
        "outputId": "37a71e36-202a-4dc9-f2a4-aa4869a984dc"
      },
      "source": [
        "print(os.getcwd())\n",
        "print(os.listdir())"
      ],
      "execution_count": 63,
      "outputs": [
        {
          "output_type": "stream",
          "text": [
            "/content\n",
            "['.config', 'unannotated_xml', 'drug_labels_unannotated_tokens.pkl', 'unannotated_xml.tar.gz', 'adc.json', 'train_xml', 'drug_labels_annotated.pkl', 'osfstorage-archive.zip', 'drive', 'drug_labels_annotated_tokens.pkl', 'test_labels.pkl', 'train_xml.tar.gz', 'test_labels', 'drug_labels_unannotated.pkl', 'sample_data']\n"
          ],
          "name": "stdout"
        }
      ]
    },
    {
      "cell_type": "code",
      "metadata": {
        "id": "0gnU3TS8Eb-t",
        "colab_type": "code",
        "colab": {
          "base_uri": "https://localhost:8080/",
          "height": 301
        },
        "outputId": "c5427908-df61-430c-a8de-2bbb84797112"
      },
      "source": [
        "torch.save(model.state_dict(), '/content/drive/My\\ Drive/Bert_model')"
      ],
      "execution_count": 66,
      "outputs": [
        {
          "output_type": "error",
          "ename": "FileNotFoundError",
          "evalue": "ignored",
          "traceback": [
            "\u001b[0;31m---------------------------------------------------------------------------\u001b[0m",
            "\u001b[0;31mFileNotFoundError\u001b[0m                         Traceback (most recent call last)",
            "\u001b[0;32m<ipython-input-66-8e8c371d989b>\u001b[0m in \u001b[0;36m<module>\u001b[0;34m()\u001b[0m\n\u001b[0;32m----> 1\u001b[0;31m \u001b[0mtorch\u001b[0m\u001b[0;34m.\u001b[0m\u001b[0msave\u001b[0m\u001b[0;34m(\u001b[0m\u001b[0mmodel\u001b[0m\u001b[0;34m.\u001b[0m\u001b[0mstate_dict\u001b[0m\u001b[0;34m(\u001b[0m\u001b[0;34m)\u001b[0m\u001b[0;34m,\u001b[0m \u001b[0;34m'/content/drive/My\\ Drive/Bert_model'\u001b[0m\u001b[0;34m)\u001b[0m\u001b[0;34m\u001b[0m\u001b[0;34m\u001b[0m\u001b[0m\n\u001b[0m",
            "\u001b[0;32m/usr/local/lib/python3.6/dist-packages/torch/serialization.py\u001b[0m in \u001b[0;36msave\u001b[0;34m(obj, f, pickle_module, pickle_protocol, _use_new_zipfile_serialization)\u001b[0m\n\u001b[1;32m    325\u001b[0m             \u001b[0;32mreturn\u001b[0m\u001b[0;34m\u001b[0m\u001b[0;34m\u001b[0m\u001b[0m\n\u001b[1;32m    326\u001b[0m \u001b[0;34m\u001b[0m\u001b[0m\n\u001b[0;32m--> 327\u001b[0;31m     \u001b[0;32mwith\u001b[0m \u001b[0m_open_file_like\u001b[0m\u001b[0;34m(\u001b[0m\u001b[0mf\u001b[0m\u001b[0;34m,\u001b[0m \u001b[0;34m'wb'\u001b[0m\u001b[0;34m)\u001b[0m \u001b[0;32mas\u001b[0m \u001b[0mopened_file\u001b[0m\u001b[0;34m:\u001b[0m\u001b[0;34m\u001b[0m\u001b[0;34m\u001b[0m\u001b[0m\n\u001b[0m\u001b[1;32m    328\u001b[0m         \u001b[0m_legacy_save\u001b[0m\u001b[0;34m(\u001b[0m\u001b[0mobj\u001b[0m\u001b[0;34m,\u001b[0m \u001b[0mopened_file\u001b[0m\u001b[0;34m,\u001b[0m \u001b[0mpickle_module\u001b[0m\u001b[0;34m,\u001b[0m \u001b[0mpickle_protocol\u001b[0m\u001b[0;34m)\u001b[0m\u001b[0;34m\u001b[0m\u001b[0;34m\u001b[0m\u001b[0m\n\u001b[1;32m    329\u001b[0m \u001b[0;34m\u001b[0m\u001b[0m\n",
            "\u001b[0;32m/usr/local/lib/python3.6/dist-packages/torch/serialization.py\u001b[0m in \u001b[0;36m_open_file_like\u001b[0;34m(name_or_buffer, mode)\u001b[0m\n\u001b[1;32m    210\u001b[0m \u001b[0;32mdef\u001b[0m \u001b[0m_open_file_like\u001b[0m\u001b[0;34m(\u001b[0m\u001b[0mname_or_buffer\u001b[0m\u001b[0;34m,\u001b[0m \u001b[0mmode\u001b[0m\u001b[0;34m)\u001b[0m\u001b[0;34m:\u001b[0m\u001b[0;34m\u001b[0m\u001b[0;34m\u001b[0m\u001b[0m\n\u001b[1;32m    211\u001b[0m     \u001b[0;32mif\u001b[0m \u001b[0m_is_path\u001b[0m\u001b[0;34m(\u001b[0m\u001b[0mname_or_buffer\u001b[0m\u001b[0;34m)\u001b[0m\u001b[0;34m:\u001b[0m\u001b[0;34m\u001b[0m\u001b[0;34m\u001b[0m\u001b[0m\n\u001b[0;32m--> 212\u001b[0;31m         \u001b[0;32mreturn\u001b[0m \u001b[0m_open_file\u001b[0m\u001b[0;34m(\u001b[0m\u001b[0mname_or_buffer\u001b[0m\u001b[0;34m,\u001b[0m \u001b[0mmode\u001b[0m\u001b[0;34m)\u001b[0m\u001b[0;34m\u001b[0m\u001b[0;34m\u001b[0m\u001b[0m\n\u001b[0m\u001b[1;32m    213\u001b[0m     \u001b[0;32melse\u001b[0m\u001b[0;34m:\u001b[0m\u001b[0;34m\u001b[0m\u001b[0;34m\u001b[0m\u001b[0m\n\u001b[1;32m    214\u001b[0m         \u001b[0;32mif\u001b[0m \u001b[0;34m'w'\u001b[0m \u001b[0;32min\u001b[0m \u001b[0mmode\u001b[0m\u001b[0;34m:\u001b[0m\u001b[0;34m\u001b[0m\u001b[0;34m\u001b[0m\u001b[0m\n",
            "\u001b[0;32m/usr/local/lib/python3.6/dist-packages/torch/serialization.py\u001b[0m in \u001b[0;36m__init__\u001b[0;34m(self, name, mode)\u001b[0m\n\u001b[1;32m    191\u001b[0m \u001b[0;32mclass\u001b[0m \u001b[0m_open_file\u001b[0m\u001b[0;34m(\u001b[0m\u001b[0m_opener\u001b[0m\u001b[0;34m)\u001b[0m\u001b[0;34m:\u001b[0m\u001b[0;34m\u001b[0m\u001b[0;34m\u001b[0m\u001b[0m\n\u001b[1;32m    192\u001b[0m     \u001b[0;32mdef\u001b[0m \u001b[0m__init__\u001b[0m\u001b[0;34m(\u001b[0m\u001b[0mself\u001b[0m\u001b[0;34m,\u001b[0m \u001b[0mname\u001b[0m\u001b[0;34m,\u001b[0m \u001b[0mmode\u001b[0m\u001b[0;34m)\u001b[0m\u001b[0;34m:\u001b[0m\u001b[0;34m\u001b[0m\u001b[0;34m\u001b[0m\u001b[0m\n\u001b[0;32m--> 193\u001b[0;31m         \u001b[0msuper\u001b[0m\u001b[0;34m(\u001b[0m\u001b[0m_open_file\u001b[0m\u001b[0;34m,\u001b[0m \u001b[0mself\u001b[0m\u001b[0;34m)\u001b[0m\u001b[0;34m.\u001b[0m\u001b[0m__init__\u001b[0m\u001b[0;34m(\u001b[0m\u001b[0mopen\u001b[0m\u001b[0;34m(\u001b[0m\u001b[0mname\u001b[0m\u001b[0;34m,\u001b[0m \u001b[0mmode\u001b[0m\u001b[0;34m)\u001b[0m\u001b[0;34m)\u001b[0m\u001b[0;34m\u001b[0m\u001b[0;34m\u001b[0m\u001b[0m\n\u001b[0m\u001b[1;32m    194\u001b[0m \u001b[0;34m\u001b[0m\u001b[0m\n\u001b[1;32m    195\u001b[0m     \u001b[0;32mdef\u001b[0m \u001b[0m__exit__\u001b[0m\u001b[0;34m(\u001b[0m\u001b[0mself\u001b[0m\u001b[0;34m,\u001b[0m \u001b[0;34m*\u001b[0m\u001b[0margs\u001b[0m\u001b[0;34m)\u001b[0m\u001b[0;34m:\u001b[0m\u001b[0;34m\u001b[0m\u001b[0;34m\u001b[0m\u001b[0m\n",
            "\u001b[0;31mFileNotFoundError\u001b[0m: [Errno 2] No such file or directory: '/content/drive/My\\\\ Drive/Bert_model'"
          ]
        }
      ]
    },
    {
      "cell_type": "code",
      "metadata": {
        "id": "p5qol6qtEhxn",
        "colab_type": "code",
        "colab": {
          "base_uri": "https://localhost:8080/",
          "height": 33
        },
        "outputId": "3c7a4b1e-2c54-4af0-dce8-6b2e2b862be4"
      },
      "source": [
        "from google.colab import drive\n",
        "drive.mount('/content/drive/')"
      ],
      "execution_count": 69,
      "outputs": [
        {
          "output_type": "stream",
          "text": [
            "Drive already mounted at /content/drive/; to attempt to forcibly remount, call drive.mount(\"/content/drive/\", force_remount=True).\n"
          ],
          "name": "stdout"
        }
      ]
    },
    {
      "cell_type": "code",
      "metadata": {
        "id": "w8skjCkWFF1U",
        "colab_type": "code",
        "colab": {
          "base_uri": "https://localhost:8080/",
          "height": 132
        },
        "outputId": "774fd8ae-7caf-4ae5-a01a-9610d6767525"
      },
      "source": [
        "!ls"
      ],
      "execution_count": 70,
      "outputs": [
        {
          "output_type": "stream",
          "text": [
            "adc.json\t\t\t    sample_data\n",
            "drive\t\t\t\t    test_labels\n",
            "drug_labels_annotated.pkl\t    test_labels.pkl\n",
            "drug_labels_annotated_tokens.pkl    train_xml\n",
            "drug_labels_unannotated.pkl\t    train_xml.tar.gz\n",
            "drug_labels_unannotated_tokens.pkl  unannotated_xml\n",
            "osfstorage-archive.zip\t\t    unannotated_xml.tar.gz\n"
          ],
          "name": "stdout"
        }
      ]
    },
    {
      "cell_type": "code",
      "metadata": {
        "id": "EdmRgE7lFkdJ",
        "colab_type": "code",
        "colab": {}
      },
      "source": [
        "model_save_name = 'Bert.pt'\n",
        "path = F\"/content/drive/My Drive/{model_save_name}\" \n",
        "torch.save(model.state_dict(), path)"
      ],
      "execution_count": 0,
      "outputs": []
    },
    {
      "cell_type": "code",
      "metadata": {
        "id": "G4mkIX3pF21q",
        "colab_type": "code",
        "colab": {}
      },
      "source": [
        ""
      ],
      "execution_count": 0,
      "outputs": []
    }
  ]
}