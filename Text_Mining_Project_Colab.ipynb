{
  "nbformat": 4,
  "nbformat_minor": 0,
  "metadata": {
    "colab": {
      "name": "Text_Mining_Project_Colab",
      "provenance": [],
      "collapsed_sections": [],
      "toc_visible": true,
      "authorship_tag": "ABX9TyPjpPFPsUlnskYXSNLKnDp/",
      "include_colab_link": true
    },
    "kernelspec": {
      "name": "python3",
      "display_name": "Python 3"
    },
    "widgets": {
      "application/vnd.jupyter.widget-state+json": {
        "8f9eed79141540bbad64eb6db046f65e": {
          "model_module": "@jupyter-widgets/controls",
          "model_name": "HBoxModel",
          "state": {
            "_view_name": "HBoxView",
            "_dom_classes": [],
            "_model_name": "HBoxModel",
            "_view_module": "@jupyter-widgets/controls",
            "_model_module_version": "1.5.0",
            "_view_count": null,
            "_view_module_version": "1.5.0",
            "box_style": "",
            "layout": "IPY_MODEL_7b5350065b07480eac1e05640a57239d",
            "_model_module": "@jupyter-widgets/controls",
            "children": [
              "IPY_MODEL_a65175a7017742e3843c0c404ccd4f13",
              "IPY_MODEL_90d2bf6bdd234d78adf82224a91fbd12"
            ]
          }
        },
        "7b5350065b07480eac1e05640a57239d": {
          "model_module": "@jupyter-widgets/base",
          "model_name": "LayoutModel",
          "state": {
            "_view_name": "LayoutView",
            "grid_template_rows": null,
            "right": null,
            "justify_content": null,
            "_view_module": "@jupyter-widgets/base",
            "overflow": null,
            "_model_module_version": "1.2.0",
            "_view_count": null,
            "flex_flow": null,
            "width": null,
            "min_width": null,
            "border": null,
            "align_items": null,
            "bottom": null,
            "_model_module": "@jupyter-widgets/base",
            "top": null,
            "grid_column": null,
            "overflow_y": null,
            "overflow_x": null,
            "grid_auto_flow": null,
            "grid_area": null,
            "grid_template_columns": null,
            "flex": null,
            "_model_name": "LayoutModel",
            "justify_items": null,
            "grid_row": null,
            "max_height": null,
            "align_content": null,
            "visibility": null,
            "align_self": null,
            "height": null,
            "min_height": null,
            "padding": null,
            "grid_auto_rows": null,
            "grid_gap": null,
            "max_width": null,
            "order": null,
            "_view_module_version": "1.2.0",
            "grid_template_areas": null,
            "object_position": null,
            "object_fit": null,
            "grid_auto_columns": null,
            "margin": null,
            "display": null,
            "left": null
          }
        },
        "a65175a7017742e3843c0c404ccd4f13": {
          "model_module": "@jupyter-widgets/controls",
          "model_name": "IntProgressModel",
          "state": {
            "_view_name": "ProgressView",
            "style": "IPY_MODEL_19f7b2a2155d492fa8dc650ac5b3ef5f",
            "_dom_classes": [],
            "description": "Downloading: 100%",
            "_model_name": "IntProgressModel",
            "bar_style": "success",
            "max": 213450,
            "_view_module": "@jupyter-widgets/controls",
            "_model_module_version": "1.5.0",
            "value": 213450,
            "_view_count": null,
            "_view_module_version": "1.5.0",
            "orientation": "horizontal",
            "min": 0,
            "description_tooltip": null,
            "_model_module": "@jupyter-widgets/controls",
            "layout": "IPY_MODEL_d94ae9c884824795be4032d4e156a4ba"
          }
        },
        "90d2bf6bdd234d78adf82224a91fbd12": {
          "model_module": "@jupyter-widgets/controls",
          "model_name": "HTMLModel",
          "state": {
            "_view_name": "HTMLView",
            "style": "IPY_MODEL_5132692cc4b94e3e948ae02d3b16806c",
            "_dom_classes": [],
            "description": "",
            "_model_name": "HTMLModel",
            "placeholder": "​",
            "_view_module": "@jupyter-widgets/controls",
            "_model_module_version": "1.5.0",
            "value": " 213k/213k [00:00&lt;00:00, 1.89MB/s]",
            "_view_count": null,
            "_view_module_version": "1.5.0",
            "description_tooltip": null,
            "_model_module": "@jupyter-widgets/controls",
            "layout": "IPY_MODEL_b20266572cf141968ee32e4a1a9907a0"
          }
        },
        "19f7b2a2155d492fa8dc650ac5b3ef5f": {
          "model_module": "@jupyter-widgets/controls",
          "model_name": "ProgressStyleModel",
          "state": {
            "_view_name": "StyleView",
            "_model_name": "ProgressStyleModel",
            "description_width": "initial",
            "_view_module": "@jupyter-widgets/base",
            "_model_module_version": "1.5.0",
            "_view_count": null,
            "_view_module_version": "1.2.0",
            "bar_color": null,
            "_model_module": "@jupyter-widgets/controls"
          }
        },
        "d94ae9c884824795be4032d4e156a4ba": {
          "model_module": "@jupyter-widgets/base",
          "model_name": "LayoutModel",
          "state": {
            "_view_name": "LayoutView",
            "grid_template_rows": null,
            "right": null,
            "justify_content": null,
            "_view_module": "@jupyter-widgets/base",
            "overflow": null,
            "_model_module_version": "1.2.0",
            "_view_count": null,
            "flex_flow": null,
            "width": null,
            "min_width": null,
            "border": null,
            "align_items": null,
            "bottom": null,
            "_model_module": "@jupyter-widgets/base",
            "top": null,
            "grid_column": null,
            "overflow_y": null,
            "overflow_x": null,
            "grid_auto_flow": null,
            "grid_area": null,
            "grid_template_columns": null,
            "flex": null,
            "_model_name": "LayoutModel",
            "justify_items": null,
            "grid_row": null,
            "max_height": null,
            "align_content": null,
            "visibility": null,
            "align_self": null,
            "height": null,
            "min_height": null,
            "padding": null,
            "grid_auto_rows": null,
            "grid_gap": null,
            "max_width": null,
            "order": null,
            "_view_module_version": "1.2.0",
            "grid_template_areas": null,
            "object_position": null,
            "object_fit": null,
            "grid_auto_columns": null,
            "margin": null,
            "display": null,
            "left": null
          }
        },
        "5132692cc4b94e3e948ae02d3b16806c": {
          "model_module": "@jupyter-widgets/controls",
          "model_name": "DescriptionStyleModel",
          "state": {
            "_view_name": "StyleView",
            "_model_name": "DescriptionStyleModel",
            "description_width": "",
            "_view_module": "@jupyter-widgets/base",
            "_model_module_version": "1.5.0",
            "_view_count": null,
            "_view_module_version": "1.2.0",
            "_model_module": "@jupyter-widgets/controls"
          }
        },
        "b20266572cf141968ee32e4a1a9907a0": {
          "model_module": "@jupyter-widgets/base",
          "model_name": "LayoutModel",
          "state": {
            "_view_name": "LayoutView",
            "grid_template_rows": null,
            "right": null,
            "justify_content": null,
            "_view_module": "@jupyter-widgets/base",
            "overflow": null,
            "_model_module_version": "1.2.0",
            "_view_count": null,
            "flex_flow": null,
            "width": null,
            "min_width": null,
            "border": null,
            "align_items": null,
            "bottom": null,
            "_model_module": "@jupyter-widgets/base",
            "top": null,
            "grid_column": null,
            "overflow_y": null,
            "overflow_x": null,
            "grid_auto_flow": null,
            "grid_area": null,
            "grid_template_columns": null,
            "flex": null,
            "_model_name": "LayoutModel",
            "justify_items": null,
            "grid_row": null,
            "max_height": null,
            "align_content": null,
            "visibility": null,
            "align_self": null,
            "height": null,
            "min_height": null,
            "padding": null,
            "grid_auto_rows": null,
            "grid_gap": null,
            "max_width": null,
            "order": null,
            "_view_module_version": "1.2.0",
            "grid_template_areas": null,
            "object_position": null,
            "object_fit": null,
            "grid_auto_columns": null,
            "margin": null,
            "display": null,
            "left": null
          }
        }
      }
    }
  },
  "cells": [
    {
      "cell_type": "markdown",
      "metadata": {
        "id": "view-in-github",
        "colab_type": "text"
      },
      "source": [
        "<a href=\"https://colab.research.google.com/github/lucyquirant/text_mining/blob/master/Text_Mining_Project_Colab.ipynb\" target=\"_parent\"><img src=\"https://colab.research.google.com/assets/colab-badge.svg\" alt=\"Open In Colab\"/></a>"
      ]
    },
    {
      "cell_type": "code",
      "metadata": {
        "id": "U2Ywz2dtCZRb",
        "colab_type": "code",
        "colab": {}
      },
      "source": [
        "!pip3 install nltk \n",
        "!pip3 install wget\n",
        "!pip3 install numpy\n",
        "!pip3 install tqdm\n",
        "!pip3 install matplotlib\n",
        "!pip3 install -U numpy scipy scikit-learn # maybe we need this, has a library which allows for tf-idf\n",
        "!pip3 install spacy\n",
        "!python3 -m spacy download en_core_web_sm"
      ],
      "execution_count": 0,
      "outputs": []
    },
    {
      "cell_type": "code",
      "metadata": {
        "id": "pTqiTcXGBwVv",
        "colab_type": "code",
        "colab": {}
      },
      "source": [
        "import nltk\n",
        "import numpy as np\n",
        "import wget\n",
        "import tarfile\n",
        "import xml.etree.ElementTree as ET\n",
        "import os\n",
        "import pandas as pd\n",
        "import matplotlib.pyplot as plt\n",
        "from tqdm import tqdm\n",
        "\n",
        "# Gensim\n",
        "import gensim\n",
        "import gensim.corpora as corpora\n",
        "from gensim.utils import simple_preprocess\n",
        "from gensim.models import CoherenceModel\n",
        "\n",
        "path = os.getcwd()\n",
        "directory_unannotated = os.getcwd() + '/unannotated_xml'\n",
        "directory_annotated = os.getcwd() + '/train_xml'"
      ],
      "execution_count": 0,
      "outputs": []
    },
    {
      "cell_type": "code",
      "metadata": {
        "id": "Rfk2nOscBzz3",
        "colab_type": "code",
        "colab": {}
      },
      "source": [
        "wget.download('https://bionlp.nlm.nih.gov/tac2017adversereactions/train_xml.tar.gz')\n",
        "wget.download('https://bionlp.nlm.nih.gov/tac2017adversereactions/unannotated_xml.tar.gz')\n",
        "tarfile.open('train_xml.tar.gz').extractall()\n",
        "tarfile.open('unannotated_xml.tar.gz').extractall()"
      ],
      "execution_count": 0,
      "outputs": []
    },
    {
      "cell_type": "code",
      "metadata": {
        "id": "gbb4bgvqCuCM",
        "colab_type": "code",
        "colab": {}
      },
      "source": [
        "# create pandas framework for the annotated and unannotated dataset\n",
        "df_cols_annotated = ['file_name',\"adverse_reactions\",\"warnings_and_precautions\",\"boxed_warnings\"]\n",
        "df_rows_annotated = []\n",
        "\n",
        "for filename in tqdm(sorted(os.listdir(directory_annotated))):\n",
        "    if filename.endswith(\".xml\"):\n",
        "        fullname = os.path.join(directory_annotated, filename)\n",
        "        tree = ET.parse(fullname)\n",
        "        root = tree.getroot()\n",
        "        text_adverse_reactions, text_warnings_and_precautions, text_boxed_warnings = \"\",\"\",\"\"\n",
        "        for section in root.findall('./Text/Section'):\n",
        "            if section.get('name') == \"adverse reactions\":\n",
        "                text_adverse_reactions = section.text\n",
        "            if section.get('name') == \"warnings and precautions\":\n",
        "                text_warnings_and_precautions = section.text\n",
        "            if section.get('name') == \"boxed warnings\":\n",
        "                text_boxed_warnings = section.text  \n",
        "        df_rows_annotated.append({\"file_name\": filename,\"adverse_reactions\": text_adverse_reactions, \"warnings_and_precautions\": text_warnings_and_precautions, \"boxed_warnings\": text_boxed_warnings})\n",
        "\n",
        "out_df = pd.DataFrame(df_rows_annotated,columns = df_cols_annotated)\n",
        "out_df.to_pickle(\"./drug_labels_annotated.pkl\")\n",
        "\n",
        "df_cols_unannotated = ['file_name',\"adverse_reactions\",\"warnings_and_precautions\",\"boxed_warnings\"]\n",
        "df_rows_unannotated = []\n",
        "\n",
        "for filename in tqdm(sorted(os.listdir(directory_unannotated))):\n",
        "    if filename.endswith(\".xml\"):\n",
        "        fullname = os.path.join(directory_unannotated, filename)\n",
        "        tree = ET.parse(fullname)\n",
        "        root = tree.getroot()\n",
        "        text_adverse_reactions, text_warnings_and_precautions, text_boxed_warnings = \"\",\"\",\"\"\n",
        "        for section in root.findall('./Text/Section'):\n",
        "            if section.get('name') == \"adverse reactions\":\n",
        "                text_adverse_reactions = section.text\n",
        "            if section.get('name') == \"warnings and precautions\":\n",
        "                text_warnings_and_precautions = section.text\n",
        "            if section.get('name') == \"boxed warnings\":\n",
        "                text_boxed_warnings = section.text  \n",
        "        df_rows_unannotated.append({\"file_name\": filename,\"adverse_reactions\": text_adverse_reactions, \"warnings_and_precautions\": text_warnings_and_precautions, \"boxed_warnings\": text_boxed_warnings})\n",
        "\n",
        "out_df = pd.DataFrame(df_rows_unannotated,columns = df_cols_unannotated)\n",
        "out_df.to_pickle(\"./drug_labels_unannotated.pkl\")"
      ],
      "execution_count": 0,
      "outputs": []
    },
    {
      "cell_type": "code",
      "metadata": {
        "colab_type": "code",
        "id": "2M_PAoNR6IvD",
        "colab": {}
      },
      "source": [
        "# Tokenize the words in the pandas framework using NLTK (maybe try spaCy and Gensim as well)\n",
        "from nltk import word_tokenize\n",
        "\n",
        "def span(text):  \n",
        "  tokens = nltk.word_tokenize(text)\n",
        "  offset = 0\n",
        "  for token in tokens:\n",
        "      offset = text.find(token,offset)\n",
        "      yield [token, offset, offset + len(token)]\n",
        "      offset += len(token)\n",
        "  \n",
        "\n",
        "span_text = lambda x : span(x)\n",
        "\n",
        "drug_labels_annotated = pd.read_pickle('./drug_labels_annotated.pkl')\n",
        "drug_labels_annotated['adverse_reactions'] = drug_labels_annotated['adverse_reactions'].apply(span_text).apply(list) # each xml gets tokenized\n",
        "drug_labels_annotated['warnings_and_precautions'] = drug_labels_annotated['warnings_and_precautions'].apply(span_text).apply(list) # each xml gets tokenized\n",
        "drug_labels_annotated['boxed_warnings'] = drug_labels_annotated['boxed_warnings'].apply(span_text).apply(list) # each xml gets tokenized\n",
        "drug_labels_annotated.to_pickle(\"./drug_labels_annotated_tokens.pkl\")\n",
        "\n",
        "drug_labels_unannotated = pd.read_pickle('./drug_labels_unannotated.pkl')\n",
        "drug_labels_unannotated['adverse_reactions'] = drug_labels_unannotated['adverse_reactions'].apply(span_text).apply(list) # each xml gets tokenized\n",
        "drug_labels_unannotated['warnings_and_precautions'] = drug_labels_unannotated['warnings_and_precautions'].apply(span_text).apply(list) # each xml gets tokenized\n",
        "drug_labels_unannotated['boxed_warnings'] = drug_labels_unannotated['boxed_warnings'].apply(span_text).apply(list) # each xml gets tokenized\n",
        "drug_labels_unannotated.to_pickle(\"./drug_labels_unannotated_tokens.pkl\")"
      ],
      "execution_count": 0,
      "outputs": []
    },
    {
      "cell_type": "code",
      "metadata": {
        "id": "YiL0rP31kfvZ",
        "colab_type": "code",
        "colab": {}
      },
      "source": [
        "drug_labels_annotated['adverse_reactions'][10]"
      ],
      "execution_count": 0,
      "outputs": []
    },
    {
      "cell_type": "code",
      "metadata": {
        "colab_type": "code",
        "id": "l4xXqq7E6H9T",
        "colab": {}
      },
      "source": [
        "# # Lemmatize with POS Tag\n",
        "# from nltk.corpus import wordnet\n",
        "# drug_labels_annotated =  pd.read_pickle('./drug_labels_annotated_tokens.pkl')\n",
        "# drug_labels_unannotated = pd.read_pickle('./drug_labels_unannotated_tokens.pkl')\n",
        "# def get_wordnet_pos(tag):\n",
        "#     \"\"\"Map POS tag to first character lemmatize() accepts\"\"\"\n",
        "#     tag = tag[0].upper()\n",
        "#     tag_dict = {\"J\": wordnet.ADJ,\n",
        "#                 \"N\": wordnet.NOUN,\n",
        "#                 \"V\": wordnet.VERB,\n",
        "#                 \"R\": wordnet.ADV}\n",
        "\n",
        "#     return tag_dict.get(tag, wordnet.NOUN)\n",
        "  \n",
        "# def lemmatize_text(words):\n",
        "#     return [lemmatizer.lemmatize(word[0],get_wordnet_pos(word[1])) for word in words]\n",
        "\n",
        "# lemmatizer = WordNetLemmatizer()\n",
        "\n",
        "# drug_labels_annotated['adverse_reactions'] = drug_labels_annotated['adverse_reactions'].apply(lemmatize_text) # each xml gets tokenized\n",
        "# drug_labels_annotated['warnings_and_precautions'] = drug_labels_annotated['warnings_and_precautions'].apply(lemmatize_text) # each xml gets tokenized\n",
        "# drug_labels_annotated['boxed_warnings'] = drug_labels_annotated['boxed_warnings'].apply(lemmatize_text) # each xml gets tokenized\n",
        "\n",
        "# drug_labels_unannotated['adverse_reactions'] = drug_labels_unannotated['adverse_reactions'].apply(lemmatize_text) # each xml gets tokenized\n",
        "# drug_labels_unannotated['warnings_and_precautions'] = drug_labels_unannotated['warnings_and_precautions'].apply(lemmatize_text) # each xml gets tokenized\n",
        "# drug_labels_unannotated['boxed_warnings'] = drug_labels_unannotated['boxed_warnings'].apply(lemmatize_text) # each xml gets tokenized"
      ],
      "execution_count": 0,
      "outputs": []
    },
    {
      "cell_type": "code",
      "metadata": {
        "id": "iKFyVf15Akjl",
        "colab_type": "code",
        "outputId": "7fd8ffbf-8af2-4e38-d481-5da0a8fe032a",
        "colab": {
          "base_uri": "https://localhost:8080/",
          "height": 34
        }
      },
      "source": [
        "# back to the xml file, we want to add the tags from the training file to the tokens\n",
        "drug_labels_annotated = pd.read_pickle('./drug_labels_annotated.pkl')\n",
        "drug_labels_annotated_tokens = pd.read_pickle('./drug_labels_annotated_tokens.pkl')\n",
        "\n",
        "for filename in tqdm(drug_labels_annotated_tokens['file_name']):\n",
        "      index = drug_labels_annotated_tokens[drug_labels_annotated_tokens['file_name']==filename].index.values.astype(int)[0]\n",
        "      fullname = os.path.join(directory_annotated, filename)\n",
        "      tree = ET.parse(fullname)\n",
        "      root = tree.getroot()\n",
        "      tokens_adverse_reactions = drug_labels_annotated_tokens['adverse_reactions'][index]\n",
        "      for token in tokens_adverse_reactions:\n",
        "          token.append(0)\n",
        "      tokens_warnings_and_precautions = drug_labels_annotated_tokens['warnings_and_precautions'][index]\n",
        "      for token in tokens_warnings_and_precautions:\n",
        "          token.append(0)\n",
        "      tokens_boxed_warnings = drug_labels_annotated_tokens['boxed_warnings'][index]\n",
        "      for token in tokens_boxed_warnings:\n",
        "          token.append(0)\n",
        "      for mention in root.findall('./Mentions/Mention'):\n",
        "          interval = [(int(x),int(x) + int(y)) for x, y in zip(mention.get('start').split(','), mention.get('len').split(','))]\n",
        "          tag = mention.get('type')\n",
        "          for i in interval:\n",
        "              if mention.get('section') == 'S1': \n",
        "                  for token in tokens_adverse_reactions:\n",
        "                      if token[1] >= i[0]: # start times are equal or greater\n",
        "                          token[3] = tag\n",
        "                          if token[2] >= i[1]: # if interval ends, break the loop\n",
        "                              break\n",
        "\n",
        "              elif mention.get('section') == 'S2': \n",
        "                  for token in tokens_warnings_and_precautions:\n",
        "                      if token[1] == s:\n",
        "                          token[3] = tag\n",
        "                          break\n",
        "              elif mention.get('section') == 'S3': \n",
        "                  for token in tokens_boxed_warnings:\n",
        "                      if token[1] == s:\n",
        "                          token[3] = tag\n",
        "                          break"
      ],
      "execution_count": 0,
      "outputs": [
        {
          "output_type": "stream",
          "text": [
            "100%|██████████| 101/101 [00:01<00:00, 51.83it/s]\n"
          ],
          "name": "stderr"
        }
      ]
    },
    {
      "cell_type": "code",
      "metadata": {
        "id": "Ro-j8LDydhAW",
        "colab_type": "code",
        "outputId": "cd476243-3f7e-40da-b004-7e0b2dd1b773",
        "colab": {
          "base_uri": "https://localhost:8080/",
          "height": 419
        }
      },
      "source": [
        "# simplify the tags a bit (we don't need the intervals any more)\n",
        "def reduceTokens(tokens):\n",
        "  for token in tokens:\n",
        "    try:\n",
        "      token[1] = token[3]\n",
        "      token.remove(token[2])\n",
        "      token.remove(token[2])\n",
        "    except:\n",
        "      break\n",
        "\n",
        "drug_labels_annotated_tokens['adverse_reactions'].apply(reduceTokens)\n",
        "drug_labels_annotated_tokens['warnings_and_precautions'].apply(reduceTokens)\n",
        "drug_labels_annotated_tokens['boxed_warnings'].apply(reduceTokens)\n",
        "\n",
        "drug_labels_annotated_tokens"
      ],
      "execution_count": 0,
      "outputs": [
        {
          "output_type": "execute_result",
          "data": {
            "text/html": [
              "<div>\n",
              "<style scoped>\n",
              "    .dataframe tbody tr th:only-of-type {\n",
              "        vertical-align: middle;\n",
              "    }\n",
              "\n",
              "    .dataframe tbody tr th {\n",
              "        vertical-align: top;\n",
              "    }\n",
              "\n",
              "    .dataframe thead th {\n",
              "        text-align: right;\n",
              "    }\n",
              "</style>\n",
              "<table border=\"1\" class=\"dataframe\">\n",
              "  <thead>\n",
              "    <tr style=\"text-align: right;\">\n",
              "      <th></th>\n",
              "      <th>file_name</th>\n",
              "      <th>adverse_reactions</th>\n",
              "      <th>warnings_and_precautions</th>\n",
              "      <th>boxed_warnings</th>\n",
              "    </tr>\n",
              "  </thead>\n",
              "  <tbody>\n",
              "    <tr>\n",
              "      <th>0</th>\n",
              "      <td>ADCETRIS.xml</td>\n",
              "      <td>[[6, 0], [ADVERSE, 0], [REACTIONS, 0], [The, 0...</td>\n",
              "      <td>[[5, 0], [WARNINGS, 0], [AND, 0], [PRECAUTIONS...</td>\n",
              "      <td>[[BOXED, 0], [WARNING, 0], [:, 0], [WARNING, 0...</td>\n",
              "    </tr>\n",
              "    <tr>\n",
              "      <th>1</th>\n",
              "      <td>ADREVIEW.xml</td>\n",
              "      <td>[[6, 0], [ADVERSE, 0], [REACTIONS, 0], [EXCERP...</td>\n",
              "      <td>[[5, 0], [WARNINGS, 0], [AND, 0], [PRECAUTIONS...</td>\n",
              "      <td>[]</td>\n",
              "    </tr>\n",
              "    <tr>\n",
              "      <th>2</th>\n",
              "      <td>AFINITOR.xml</td>\n",
              "      <td>[[6, 0], [ADVERSE, 0], [REACTIONS, 0], [The, 0...</td>\n",
              "      <td>[[5, 0], [WARNINGS, 0], [AND, 0], [PRECAUTIONS...</td>\n",
              "      <td>[]</td>\n",
              "    </tr>\n",
              "    <tr>\n",
              "      <th>3</th>\n",
              "      <td>AMPYRA.xml</td>\n",
              "      <td>[[6, 0], [ADVERSE, 0], [REACTIONS, 0], [Becaus...</td>\n",
              "      <td>[[5, 0], [WARNINGS, 0], [AND, 0], [PRECAUTIONS...</td>\n",
              "      <td>[]</td>\n",
              "    </tr>\n",
              "    <tr>\n",
              "      <th>4</th>\n",
              "      <td>AMYVID.xml</td>\n",
              "      <td>[[6, 0], [ADVERSE, 0], [REACTIONS, 0], [EXCERP...</td>\n",
              "      <td>[[5, 0], [WARNINGS, 0], [AND, 0], [PRECAUTIONS...</td>\n",
              "      <td>[]</td>\n",
              "    </tr>\n",
              "    <tr>\n",
              "      <th>...</th>\n",
              "      <td>...</td>\n",
              "      <td>...</td>\n",
              "      <td>...</td>\n",
              "      <td>...</td>\n",
              "    </tr>\n",
              "    <tr>\n",
              "      <th>96</th>\n",
              "      <td>YERVOY.xml</td>\n",
              "      <td>[[6, 0], [ADVERSE, 0], [REACTIONS, 0], [The, 0...</td>\n",
              "      <td>[[5, 0], [WARNINGS, 0], [AND, 0], [PRECAUTIONS...</td>\n",
              "      <td>[[BOXED, 0], [WARNING, 0], [:, 0], [WARNING, 0...</td>\n",
              "    </tr>\n",
              "    <tr>\n",
              "      <th>97</th>\n",
              "      <td>ZERBAXA.xml</td>\n",
              "      <td>[[6, 0], [ADVERSE, 0], [REACTIONS, 0], [The, 0...</td>\n",
              "      <td>[[5, 0], [WARNINGS, 0], [AND, 0], [PRECAUTIONS...</td>\n",
              "      <td>[]</td>\n",
              "    </tr>\n",
              "    <tr>\n",
              "      <th>98</th>\n",
              "      <td>ZYDELIG.xml</td>\n",
              "      <td>[[6, 0], [ADVERSE, 0], [REACTIONS, 0], [The, 0...</td>\n",
              "      <td>[[5, 0], [WARNINGS, 0], [AND, 0], [PRECAUTIONS...</td>\n",
              "      <td>[[BOXED, 0], [WARNING, 0], [:, 0], [WARNING, 0...</td>\n",
              "    </tr>\n",
              "    <tr>\n",
              "      <th>99</th>\n",
              "      <td>ZYKADIA.xml</td>\n",
              "      <td>[[6, 0], [ADVERSE, 0], [REACTIONS, 0], [The, 0...</td>\n",
              "      <td>[[5, 0], [WARNINGS, 0], [AND, 0], [PRECAUTIONS...</td>\n",
              "      <td>[]</td>\n",
              "    </tr>\n",
              "    <tr>\n",
              "      <th>100</th>\n",
              "      <td>ZYTIGA.xml</td>\n",
              "      <td>[[6, 0], [ADVERSE, 0], [REACTIONS, 0], [The, 0...</td>\n",
              "      <td>[[5, 0], [WARNINGS, 0], [AND, 0], [PRECAUTIONS...</td>\n",
              "      <td>[]</td>\n",
              "    </tr>\n",
              "  </tbody>\n",
              "</table>\n",
              "<p>101 rows × 4 columns</p>\n",
              "</div>"
            ],
            "text/plain": [
              "        file_name  ...                                     boxed_warnings\n",
              "0    ADCETRIS.xml  ...  [[BOXED, 0], [WARNING, 0], [:, 0], [WARNING, 0...\n",
              "1    ADREVIEW.xml  ...                                                 []\n",
              "2    AFINITOR.xml  ...                                                 []\n",
              "3      AMPYRA.xml  ...                                                 []\n",
              "4      AMYVID.xml  ...                                                 []\n",
              "..            ...  ...                                                ...\n",
              "96     YERVOY.xml  ...  [[BOXED, 0], [WARNING, 0], [:, 0], [WARNING, 0...\n",
              "97    ZERBAXA.xml  ...                                                 []\n",
              "98    ZYDELIG.xml  ...  [[BOXED, 0], [WARNING, 0], [:, 0], [WARNING, 0...\n",
              "99    ZYKADIA.xml  ...                                                 []\n",
              "100    ZYTIGA.xml  ...                                                 []\n",
              "\n",
              "[101 rows x 4 columns]"
            ]
          },
          "metadata": {
            "tags": []
          },
          "execution_count": 77
        }
      ]
    },
    {
      "cell_type": "code",
      "metadata": {
        "id": "97k_DkVQcUxC",
        "colab_type": "code",
        "outputId": "8969f245-78e2-4115-fca6-5720a5419945",
        "colab": {
          "base_uri": "https://localhost:8080/",
          "height": 52
        }
      },
      "source": [
        "# Bert experiment \n",
        "\n",
        "import torch\n",
        "from torch.utils.data import TensorDataset, DataLoader, RandomSampler, SequentialSampler\n",
        "from transformers import BertTokenizer, BertConfig\n",
        "\n",
        "from keras.preprocessing.sequence import pad_sequences\n",
        "from sklearn.model_selection import train_test_split\n",
        "\n",
        "torch.__version__"
      ],
      "execution_count": 0,
      "outputs": [
        {
          "output_type": "stream",
          "text": [
            "Using TensorFlow backend.\n"
          ],
          "name": "stderr"
        },
        {
          "output_type": "execute_result",
          "data": {
            "text/plain": [
              "'1.4.0'"
            ]
          },
          "metadata": {
            "tags": []
          },
          "execution_count": 55
        }
      ]
    },
    {
      "cell_type": "code",
      "metadata": {
        "id": "2ldWl4FNcvey",
        "colab_type": "code",
        "colab": {}
      },
      "source": [
        "MAX_LEN = 75\n",
        "bs = 32"
      ],
      "execution_count": 0,
      "outputs": []
    },
    {
      "cell_type": "code",
      "metadata": {
        "id": "XK7bQMBqc0gQ",
        "colab_type": "code",
        "colab": {}
      },
      "source": [
        "device = torch.device(\"cuda\" if torch.cuda.is_available() else \"cpu\")\n",
        "n_gpu = torch.cuda.device_count()"
      ],
      "execution_count": 0,
      "outputs": []
    },
    {
      "cell_type": "code",
      "metadata": {
        "id": "HA-QY9ymc38h",
        "colab_type": "code",
        "outputId": "5180dccf-4941-4eb3-f29d-575e4525ab71",
        "colab": {
          "base_uri": "https://localhost:8080/",
          "height": 66,
          "referenced_widgets": [
            "8f9eed79141540bbad64eb6db046f65e",
            "7b5350065b07480eac1e05640a57239d",
            "a65175a7017742e3843c0c404ccd4f13",
            "90d2bf6bdd234d78adf82224a91fbd12",
            "19f7b2a2155d492fa8dc650ac5b3ef5f",
            "d94ae9c884824795be4032d4e156a4ba",
            "5132692cc4b94e3e948ae02d3b16806c",
            "b20266572cf141968ee32e4a1a9907a0"
          ]
        }
      },
      "source": [
        "tokenizer = BertTokenizer.from_pretrained('bert-base-cased', do_lower_case=False)"
      ],
      "execution_count": 0,
      "outputs": [
        {
          "output_type": "display_data",
          "data": {
            "application/vnd.jupyter.widget-view+json": {
              "model_id": "8f9eed79141540bbad64eb6db046f65e",
              "version_minor": 0,
              "version_major": 2
            },
            "text/plain": [
              "HBox(children=(IntProgress(value=0, description='Downloading', max=213450, style=ProgressStyle(description_wid…"
            ]
          },
          "metadata": {
            "tags": []
          }
        },
        {
          "output_type": "stream",
          "text": [
            "\n"
          ],
          "name": "stdout"
        }
      ]
    },
    {
      "cell_type": "code",
      "metadata": {
        "id": "v5YUlYpec7B4",
        "colab_type": "code",
        "colab": {}
      },
      "source": [
        "def tokenize_and_preserve_labels(sentence, text_labels):\n",
        "    tokenized_sentence = []\n",
        "    labels = []\n",
        "\n",
        "    for word, label in zip(sentence, text_labels):\n",
        "\n",
        "        # Tokenize the word and count # of subwords the word is broken into\n",
        "        tokenized_word = tokenizer.tokenize(word)\n",
        "        n_subwords = len(tokenized_word)\n",
        "\n",
        "        # Add the tokenized word to the final tokenized word list\n",
        "        tokenized_sentence.extend(tokenized_word)\n",
        "\n",
        "        # Add the same label to the new list of labels `n_subwords` times\n",
        "        labels.extend([label] * n_subwords)\n",
        "\n",
        "    return tokenized_sentence, labels"
      ],
      "execution_count": 0,
      "outputs": []
    },
    {
      "cell_type": "code",
      "metadata": {
        "id": "NGPQV1q2dJax",
        "colab_type": "code",
        "outputId": "beb0e5af-ca52-42cf-afbe-d336e0eb41a7",
        "colab": {
          "base_uri": "https://localhost:8080/",
          "height": 419
        }
      },
      "source": [
        "from nltk.tokenize.treebank import TreebankWordDetokenizer\n",
        "\n",
        "\n",
        "def detokenize_tokens(tokens):\n",
        "  TreebankWordDetokenizer().detokenize(tokens)\n",
        "\n",
        "drug_labels_annotated_tokens\n"
      ],
      "execution_count": 0,
      "outputs": [
        {
          "output_type": "execute_result",
          "data": {
            "text/html": [
              "<div>\n",
              "<style scoped>\n",
              "    .dataframe tbody tr th:only-of-type {\n",
              "        vertical-align: middle;\n",
              "    }\n",
              "\n",
              "    .dataframe tbody tr th {\n",
              "        vertical-align: top;\n",
              "    }\n",
              "\n",
              "    .dataframe thead th {\n",
              "        text-align: right;\n",
              "    }\n",
              "</style>\n",
              "<table border=\"1\" class=\"dataframe\">\n",
              "  <thead>\n",
              "    <tr style=\"text-align: right;\">\n",
              "      <th></th>\n",
              "      <th>file_name</th>\n",
              "      <th>adverse_reactions</th>\n",
              "      <th>warnings_and_precautions</th>\n",
              "      <th>boxed_warnings</th>\n",
              "    </tr>\n",
              "  </thead>\n",
              "  <tbody>\n",
              "    <tr>\n",
              "      <th>0</th>\n",
              "      <td>ADCETRIS.xml</td>\n",
              "      <td>[[6, 0], [ADVERSE, 0], [REACTIONS, 0], [The, 0...</td>\n",
              "      <td>[[5, 0], [WARNINGS, 0], [AND, 0], [PRECAUTIONS...</td>\n",
              "      <td>[[BOXED, 0], [WARNING, 0], [:, 0], [WARNING, 0...</td>\n",
              "    </tr>\n",
              "    <tr>\n",
              "      <th>1</th>\n",
              "      <td>ADREVIEW.xml</td>\n",
              "      <td>[[6, 0], [ADVERSE, 0], [REACTIONS, 0], [EXCERP...</td>\n",
              "      <td>[[5, 0], [WARNINGS, 0], [AND, 0], [PRECAUTIONS...</td>\n",
              "      <td>[]</td>\n",
              "    </tr>\n",
              "    <tr>\n",
              "      <th>2</th>\n",
              "      <td>AFINITOR.xml</td>\n",
              "      <td>[[6, 0], [ADVERSE, 0], [REACTIONS, 0], [The, 0...</td>\n",
              "      <td>[[5, 0], [WARNINGS, 0], [AND, 0], [PRECAUTIONS...</td>\n",
              "      <td>[]</td>\n",
              "    </tr>\n",
              "    <tr>\n",
              "      <th>3</th>\n",
              "      <td>AMPYRA.xml</td>\n",
              "      <td>[[6, 0], [ADVERSE, 0], [REACTIONS, 0], [Becaus...</td>\n",
              "      <td>[[5, 0], [WARNINGS, 0], [AND, 0], [PRECAUTIONS...</td>\n",
              "      <td>[]</td>\n",
              "    </tr>\n",
              "    <tr>\n",
              "      <th>4</th>\n",
              "      <td>AMYVID.xml</td>\n",
              "      <td>[[6, 0], [ADVERSE, 0], [REACTIONS, 0], [EXCERP...</td>\n",
              "      <td>[[5, 0], [WARNINGS, 0], [AND, 0], [PRECAUTIONS...</td>\n",
              "      <td>[]</td>\n",
              "    </tr>\n",
              "    <tr>\n",
              "      <th>...</th>\n",
              "      <td>...</td>\n",
              "      <td>...</td>\n",
              "      <td>...</td>\n",
              "      <td>...</td>\n",
              "    </tr>\n",
              "    <tr>\n",
              "      <th>96</th>\n",
              "      <td>YERVOY.xml</td>\n",
              "      <td>[[6, 0], [ADVERSE, 0], [REACTIONS, 0], [The, 0...</td>\n",
              "      <td>[[5, 0], [WARNINGS, 0], [AND, 0], [PRECAUTIONS...</td>\n",
              "      <td>[[BOXED, 0], [WARNING, 0], [:, 0], [WARNING, 0...</td>\n",
              "    </tr>\n",
              "    <tr>\n",
              "      <th>97</th>\n",
              "      <td>ZERBAXA.xml</td>\n",
              "      <td>[[6, 0], [ADVERSE, 0], [REACTIONS, 0], [The, 0...</td>\n",
              "      <td>[[5, 0], [WARNINGS, 0], [AND, 0], [PRECAUTIONS...</td>\n",
              "      <td>[]</td>\n",
              "    </tr>\n",
              "    <tr>\n",
              "      <th>98</th>\n",
              "      <td>ZYDELIG.xml</td>\n",
              "      <td>[[6, 0], [ADVERSE, 0], [REACTIONS, 0], [The, 0...</td>\n",
              "      <td>[[5, 0], [WARNINGS, 0], [AND, 0], [PRECAUTIONS...</td>\n",
              "      <td>[[BOXED, 0], [WARNING, 0], [:, 0], [WARNING, 0...</td>\n",
              "    </tr>\n",
              "    <tr>\n",
              "      <th>99</th>\n",
              "      <td>ZYKADIA.xml</td>\n",
              "      <td>[[6, 0], [ADVERSE, 0], [REACTIONS, 0], [The, 0...</td>\n",
              "      <td>[[5, 0], [WARNINGS, 0], [AND, 0], [PRECAUTIONS...</td>\n",
              "      <td>[]</td>\n",
              "    </tr>\n",
              "    <tr>\n",
              "      <th>100</th>\n",
              "      <td>ZYTIGA.xml</td>\n",
              "      <td>[[6, 0], [ADVERSE, 0], [REACTIONS, 0], [The, 0...</td>\n",
              "      <td>[[5, 0], [WARNINGS, 0], [AND, 0], [PRECAUTIONS...</td>\n",
              "      <td>[]</td>\n",
              "    </tr>\n",
              "  </tbody>\n",
              "</table>\n",
              "<p>101 rows × 4 columns</p>\n",
              "</div>"
            ],
            "text/plain": [
              "        file_name  ...                                     boxed_warnings\n",
              "0    ADCETRIS.xml  ...  [[BOXED, 0], [WARNING, 0], [:, 0], [WARNING, 0...\n",
              "1    ADREVIEW.xml  ...                                                 []\n",
              "2    AFINITOR.xml  ...                                                 []\n",
              "3      AMPYRA.xml  ...                                                 []\n",
              "4      AMYVID.xml  ...                                                 []\n",
              "..            ...  ...                                                ...\n",
              "96     YERVOY.xml  ...  [[BOXED, 0], [WARNING, 0], [:, 0], [WARNING, 0...\n",
              "97    ZERBAXA.xml  ...                                                 []\n",
              "98    ZYDELIG.xml  ...  [[BOXED, 0], [WARNING, 0], [:, 0], [WARNING, 0...\n",
              "99    ZYKADIA.xml  ...                                                 []\n",
              "100    ZYTIGA.xml  ...                                                 []\n",
              "\n",
              "[101 rows x 4 columns]"
            ]
          },
          "metadata": {
            "tags": []
          },
          "execution_count": 79
        }
      ]
    },
    {
      "cell_type": "code",
      "metadata": {
        "id": "wkadr5M6hkmN",
        "colab_type": "code",
        "colab": {}
      },
      "source": [
        ""
      ],
      "execution_count": 0,
      "outputs": []
    }
  ]
}