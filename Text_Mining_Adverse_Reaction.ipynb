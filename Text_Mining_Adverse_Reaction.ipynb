{
 "cells": [
  {
   "cell_type": "code",
   "execution_count": null,
   "metadata": {},
   "outputs": [],
   "source": [
    "import nltk\n",
    "import wget\n",
    "import tarfile\n",
    "import xml.etree.ElementTree as ET\n",
    "import os\n",
    "from tqdm import tqdm\n",
    "path = os.getcwd()\n",
    "directory_unannotated = os.getcwd() + '\\\\unannotated_xml'\n",
    "directory_train = os.getcwd() + '\\\\train_xml'"
   ]
  },
  {
   "cell_type": "code",
   "execution_count": null,
   "metadata": {},
   "outputs": [],
   "source": [
    "wget.download('https://bionlp.nlm.nih.gov/tac2017adversereactions/train_xml.tar.gz')\n",
    "wget.download('https://bionlp.nlm.nih.gov/tac2017adversereactions/unannotated_xml.tar.gz')\n",
    "tarfile.open('train_xml.tar.gz').extractall()\n",
    "tarfile.open('unannotated_xml.tar.gz').extractall()"
   ]
  },
  {
   "cell_type": "markdown",
   "metadata": {},
   "source": [
    "Parse the XML files"
   ]
  },
  {
   "cell_type": "code",
   "execution_count": null,
   "metadata": {},
   "outputs": [],
   "source": [
    "from nltk.tokenize import word_tokenize\n",
    "\n",
    "tokens = []\n",
    "for filename in tqdm(os.listdir(directory_unannotated)):\n",
    "#     print(filename)\n",
    "    if filename.endswith(\".xml\"):\n",
    "        fullname = os.path.join(directory_unannotated, filename)\n",
    "        tree = ET.parse(fullname)\n",
    "        root = tree.getroot()\n",
    "        for section in root.findall('./Text/Section'):\n",
    "            if section.get('name') == \"adverse reactions\":\n",
    "                tokenized_words=word_tokenize(section.text)\n",
    "                tokens += tokenized_words\n",
    "print(len(tokens))"
   ]
  },
  {
   "cell_type": "code",
   "execution_count": null,
   "metadata": {},
   "outputs": [],
   "source": [
    "from nltk.probability import FreqDist\n",
    "import matplotlib.pyplot as plt\n",
    "\n",
    "fdist = FreqDist(tokens)\n",
    "fdist.plot(30,cumulative=False)\n",
    "plt.show()"
   ]
  }
 ],
 "metadata": {
  "kernelspec": {
   "display_name": "Python 3",
   "language": "python",
   "name": "python3"
  },
  "language_info": {
   "codemirror_mode": {
    "name": "ipython",
    "version": 3
   },
   "file_extension": ".py",
   "mimetype": "text/x-python",
   "name": "python",
   "nbconvert_exporter": "python",
   "pygments_lexer": "ipython3",
   "version": "3.8.0"
  }
 },
 "nbformat": 4,
 "nbformat_minor": 4
}
